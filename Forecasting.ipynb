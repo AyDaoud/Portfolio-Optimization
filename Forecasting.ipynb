{
 "cells": [
  {
   "cell_type": "code",
   "execution_count": 308,
   "id": "a597f64f",
   "metadata": {},
   "outputs": [],
   "source": [
    "# Import libraries\n",
    "import numpy as np # linear algebra\n",
    "import pandas as pd # data processing, CSV file I/O (e.g. pd.read_csv)\n",
    "import matplotlib.pyplot as plt\n",
    "%matplotlib inline\n",
    "from pandas import datetime\n",
    "import math, time\n",
    "import itertools\n",
    "from sklearn import preprocessing\n",
    "import datetime\n",
    "from operator import itemgetter\n",
    "from sklearn.preprocessing import MinMaxScaler\n",
    "from sklearn.metrics import mean_squared_error\n",
    "from math import sqrt\n",
    "from keras.models import Sequential\n",
    "from keras.layers.core import Dense, Dropout, Activation\n",
    "from keras.layers.recurrent import LSTM\n",
    "from keras.models import load_model\n",
    "import keras\n",
    "import h5py\n",
    "import requests\n",
    "import os\n",
    "import warnings\n",
    "warnings.filterwarnings('ignore')"
   ]
  },
  {
   "cell_type": "code",
   "execution_count": 371,
   "id": "95ca235b",
   "metadata": {},
   "outputs": [
    {
     "data": {
      "text/html": [
       "<div>\n",
       "<style scoped>\n",
       "    .dataframe tbody tr th:only-of-type {\n",
       "        vertical-align: middle;\n",
       "    }\n",
       "\n",
       "    .dataframe tbody tr th {\n",
       "        vertical-align: top;\n",
       "    }\n",
       "\n",
       "    .dataframe thead th {\n",
       "        text-align: right;\n",
       "    }\n",
       "</style>\n",
       "<table border=\"1\" class=\"dataframe\">\n",
       "  <thead>\n",
       "    <tr style=\"text-align: right;\">\n",
       "      <th></th>\n",
       "      <th>Date</th>\n",
       "      <th>Open</th>\n",
       "      <th>High</th>\n",
       "      <th>Low</th>\n",
       "      <th>Close</th>\n",
       "      <th>Volume</th>\n",
       "      <th>Currency</th>\n",
       "    </tr>\n",
       "  </thead>\n",
       "  <tbody>\n",
       "    <tr>\n",
       "      <th>0</th>\n",
       "      <td>2016-03-10</td>\n",
       "      <td>11.20</td>\n",
       "      <td>11.85</td>\n",
       "      <td>11.07</td>\n",
       "      <td>11.75</td>\n",
       "      <td>4</td>\n",
       "      <td>USD</td>\n",
       "    </tr>\n",
       "    <tr>\n",
       "      <th>1</th>\n",
       "      <td>2016-03-11</td>\n",
       "      <td>11.75</td>\n",
       "      <td>11.95</td>\n",
       "      <td>11.75</td>\n",
       "      <td>11.95</td>\n",
       "      <td>179</td>\n",
       "      <td>USD</td>\n",
       "    </tr>\n",
       "    <tr>\n",
       "      <th>2</th>\n",
       "      <td>2016-03-12</td>\n",
       "      <td>11.95</td>\n",
       "      <td>13.45</td>\n",
       "      <td>11.95</td>\n",
       "      <td>12.92</td>\n",
       "      <td>833</td>\n",
       "      <td>USD</td>\n",
       "    </tr>\n",
       "    <tr>\n",
       "      <th>3</th>\n",
       "      <td>2016-03-13</td>\n",
       "      <td>12.92</td>\n",
       "      <td>15.07</td>\n",
       "      <td>12.92</td>\n",
       "      <td>15.07</td>\n",
       "      <td>1295</td>\n",
       "      <td>USD</td>\n",
       "    </tr>\n",
       "    <tr>\n",
       "      <th>4</th>\n",
       "      <td>2016-03-14</td>\n",
       "      <td>15.07</td>\n",
       "      <td>15.07</td>\n",
       "      <td>11.40</td>\n",
       "      <td>12.50</td>\n",
       "      <td>92183</td>\n",
       "      <td>USD</td>\n",
       "    </tr>\n",
       "    <tr>\n",
       "      <th>...</th>\n",
       "      <td>...</td>\n",
       "      <td>...</td>\n",
       "      <td>...</td>\n",
       "      <td>...</td>\n",
       "      <td>...</td>\n",
       "      <td>...</td>\n",
       "      <td>...</td>\n",
       "    </tr>\n",
       "    <tr>\n",
       "      <th>2292</th>\n",
       "      <td>2022-06-19</td>\n",
       "      <td>995.49</td>\n",
       "      <td>1152.07</td>\n",
       "      <td>938.24</td>\n",
       "      <td>1128.39</td>\n",
       "      <td>2424636</td>\n",
       "      <td>USD</td>\n",
       "    </tr>\n",
       "    <tr>\n",
       "      <th>2293</th>\n",
       "      <td>2022-06-20</td>\n",
       "      <td>1128.39</td>\n",
       "      <td>1165.62</td>\n",
       "      <td>1056.58</td>\n",
       "      <td>1128.32</td>\n",
       "      <td>2041874</td>\n",
       "      <td>USD</td>\n",
       "    </tr>\n",
       "    <tr>\n",
       "      <th>2294</th>\n",
       "      <td>2022-06-21</td>\n",
       "      <td>1128.29</td>\n",
       "      <td>1192.27</td>\n",
       "      <td>1110.63</td>\n",
       "      <td>1125.96</td>\n",
       "      <td>1601334</td>\n",
       "      <td>USD</td>\n",
       "    </tr>\n",
       "    <tr>\n",
       "      <th>2295</th>\n",
       "      <td>2022-06-22</td>\n",
       "      <td>1125.96</td>\n",
       "      <td>1127.06</td>\n",
       "      <td>1045.37</td>\n",
       "      <td>1049.02</td>\n",
       "      <td>1583077</td>\n",
       "      <td>USD</td>\n",
       "    </tr>\n",
       "    <tr>\n",
       "      <th>2296</th>\n",
       "      <td>2022-06-23</td>\n",
       "      <td>1049.02</td>\n",
       "      <td>1096.68</td>\n",
       "      <td>1046.57</td>\n",
       "      <td>1086.11</td>\n",
       "      <td>1572407</td>\n",
       "      <td>USD</td>\n",
       "    </tr>\n",
       "  </tbody>\n",
       "</table>\n",
       "<p>2297 rows × 7 columns</p>\n",
       "</div>"
      ],
      "text/plain": [
       "            Date     Open     High      Low    Close   Volume Currency\n",
       "0     2016-03-10    11.20    11.85    11.07    11.75        4      USD\n",
       "1     2016-03-11    11.75    11.95    11.75    11.95      179      USD\n",
       "2     2016-03-12    11.95    13.45    11.95    12.92      833      USD\n",
       "3     2016-03-13    12.92    15.07    12.92    15.07     1295      USD\n",
       "4     2016-03-14    15.07    15.07    11.40    12.50    92183      USD\n",
       "...          ...      ...      ...      ...      ...      ...      ...\n",
       "2292  2022-06-19   995.49  1152.07   938.24  1128.39  2424636      USD\n",
       "2293  2022-06-20  1128.39  1165.62  1056.58  1128.32  2041874      USD\n",
       "2294  2022-06-21  1128.29  1192.27  1110.63  1125.96  1601334      USD\n",
       "2295  2022-06-22  1125.96  1127.06  1045.37  1049.02  1583077      USD\n",
       "2296  2022-06-23  1049.02  1096.68  1046.57  1086.11  1572407      USD\n",
       "\n",
       "[2297 rows x 7 columns]"
      ]
     },
     "execution_count": 371,
     "metadata": {},
     "output_type": "execute_result"
    }
   ],
   "source": [
    "# Load files\n",
    "curr1 = pd.read_csv('CHFJPY.csv')\n",
    "curr2 = pd.read_csv('USDCHF.csv')\n",
    "curr3 = pd.read_csv('GBPAUD.csv') \n",
    "curr4 = pd.read_csv('USDJPY.csv') \n",
    "\n",
    "crypto1 = pd.read_csv('XRP.csv') \n",
    "crypto2 = pd.read_csv('Bitcoin.csv') \n",
    "crypto3 = pd.read_csv('Ethereum.csv') \n",
    "\n",
    "commod1 = pd.read_csv('Aluminum.csv') \n",
    "commod2 = pd.read_csv('Brent Oil.csv') \n",
    "commod3 = pd.read_csv('Carbon Emissions.csv') \n",
    "\n",
    "\n",
    "\n",
    "crypto3\n",
    "\n",
    "# Preview train dataset\n"
   ]
  },
  {
   "cell_type": "code",
   "execution_count": 310,
   "id": "50154b03",
   "metadata": {},
   "outputs": [],
   "source": [
    "ticks=['Carbon Emissions','Brent Oil','Aluminum','CHFJPY','USDCHF','GBPAUD','USDJPY','Ethereum','Bitcoin','XRP']\n"
   ]
  },
  {
   "cell_type": "code",
   "execution_count": 311,
   "id": "99da53b9",
   "metadata": {},
   "outputs": [
    {
     "data": {
      "text/html": [
       "<div>\n",
       "<style scoped>\n",
       "    .dataframe tbody tr th:only-of-type {\n",
       "        vertical-align: middle;\n",
       "    }\n",
       "\n",
       "    .dataframe tbody tr th {\n",
       "        vertical-align: top;\n",
       "    }\n",
       "\n",
       "    .dataframe thead th {\n",
       "        text-align: right;\n",
       "    }\n",
       "</style>\n",
       "<table border=\"1\" class=\"dataframe\">\n",
       "  <thead>\n",
       "    <tr style=\"text-align: right;\">\n",
       "      <th></th>\n",
       "      <th>Carbon Emissions</th>\n",
       "      <th>Brent Oil</th>\n",
       "      <th>Aluminum</th>\n",
       "      <th>CHFJPY</th>\n",
       "      <th>USDCHF</th>\n",
       "      <th>GBPAUD</th>\n",
       "      <th>USDJPY</th>\n",
       "      <th>Ethereum</th>\n",
       "      <th>Bitcoin</th>\n",
       "      <th>XRP</th>\n",
       "    </tr>\n",
       "    <tr>\n",
       "      <th>Date</th>\n",
       "      <th></th>\n",
       "      <th></th>\n",
       "      <th></th>\n",
       "      <th></th>\n",
       "      <th></th>\n",
       "      <th></th>\n",
       "      <th></th>\n",
       "      <th></th>\n",
       "      <th></th>\n",
       "      <th></th>\n",
       "    </tr>\n",
       "  </thead>\n",
       "  <tbody>\n",
       "    <tr>\n",
       "      <th>2015-01-02</th>\n",
       "      <td>7.01</td>\n",
       "      <td>56.42</td>\n",
       "      <td>1828.00</td>\n",
       "      <td>120.35</td>\n",
       "      <td>1.0013</td>\n",
       "      <td>1.8947</td>\n",
       "      <td>120.50</td>\n",
       "      <td>NaN</td>\n",
       "      <td>315.2</td>\n",
       "      <td>NaN</td>\n",
       "    </tr>\n",
       "    <tr>\n",
       "      <th>2015-01-05</th>\n",
       "      <td>6.90</td>\n",
       "      <td>53.11</td>\n",
       "      <td>1812.25</td>\n",
       "      <td>118.80</td>\n",
       "      <td>1.0071</td>\n",
       "      <td>1.8866</td>\n",
       "      <td>119.64</td>\n",
       "      <td>NaN</td>\n",
       "      <td>274.8</td>\n",
       "      <td>NaN</td>\n",
       "    </tr>\n",
       "    <tr>\n",
       "      <th>2015-01-06</th>\n",
       "      <td>6.77</td>\n",
       "      <td>51.10</td>\n",
       "      <td>1780.25</td>\n",
       "      <td>117.22</td>\n",
       "      <td>1.0101</td>\n",
       "      <td>1.8740</td>\n",
       "      <td>118.41</td>\n",
       "      <td>NaN</td>\n",
       "      <td>282.3</td>\n",
       "      <td>NaN</td>\n",
       "    </tr>\n",
       "    <tr>\n",
       "      <th>2015-01-07</th>\n",
       "      <td>6.78</td>\n",
       "      <td>51.15</td>\n",
       "      <td>1783.50</td>\n",
       "      <td>117.57</td>\n",
       "      <td>1.0144</td>\n",
       "      <td>1.8702</td>\n",
       "      <td>119.25</td>\n",
       "      <td>NaN</td>\n",
       "      <td>291.3</td>\n",
       "      <td>NaN</td>\n",
       "    </tr>\n",
       "    <tr>\n",
       "      <th>2015-01-08</th>\n",
       "      <td>6.81</td>\n",
       "      <td>50.96</td>\n",
       "      <td>1825.50</td>\n",
       "      <td>117.49</td>\n",
       "      <td>1.0186</td>\n",
       "      <td>1.8577</td>\n",
       "      <td>119.66</td>\n",
       "      <td>NaN</td>\n",
       "      <td>282.7</td>\n",
       "      <td>NaN</td>\n",
       "    </tr>\n",
       "    <tr>\n",
       "      <th>...</th>\n",
       "      <td>...</td>\n",
       "      <td>...</td>\n",
       "      <td>...</td>\n",
       "      <td>...</td>\n",
       "      <td>...</td>\n",
       "      <td>...</td>\n",
       "      <td>...</td>\n",
       "      <td>...</td>\n",
       "      <td>...</td>\n",
       "      <td>...</td>\n",
       "    </tr>\n",
       "    <tr>\n",
       "      <th>2022-06-17</th>\n",
       "      <td>82.12</td>\n",
       "      <td>113.12</td>\n",
       "      <td>2498.00</td>\n",
       "      <td>139.12</td>\n",
       "      <td>0.9697</td>\n",
       "      <td>1.7615</td>\n",
       "      <td>134.96</td>\n",
       "      <td>1086.47</td>\n",
       "      <td>20444.6</td>\n",
       "      <td>0.32092</td>\n",
       "    </tr>\n",
       "    <tr>\n",
       "      <th>2022-06-20</th>\n",
       "      <td>84.01</td>\n",
       "      <td>114.13</td>\n",
       "      <td>2527.00</td>\n",
       "      <td>139.59</td>\n",
       "      <td>0.9673</td>\n",
       "      <td>1.7618</td>\n",
       "      <td>135.08</td>\n",
       "      <td>1128.32</td>\n",
       "      <td>20572.3</td>\n",
       "      <td>0.32242</td>\n",
       "    </tr>\n",
       "    <tr>\n",
       "      <th>2022-06-21</th>\n",
       "      <td>84.61</td>\n",
       "      <td>114.65</td>\n",
       "      <td>2533.50</td>\n",
       "      <td>141.37</td>\n",
       "      <td>0.9661</td>\n",
       "      <td>1.7613</td>\n",
       "      <td>136.61</td>\n",
       "      <td>1125.96</td>\n",
       "      <td>20720.4</td>\n",
       "      <td>0.32936</td>\n",
       "    </tr>\n",
       "    <tr>\n",
       "      <th>2022-06-22</th>\n",
       "      <td>81.99</td>\n",
       "      <td>111.74</td>\n",
       "      <td>2479.50</td>\n",
       "      <td>141.68</td>\n",
       "      <td>0.9614</td>\n",
       "      <td>1.7705</td>\n",
       "      <td>136.26</td>\n",
       "      <td>1049.02</td>\n",
       "      <td>19965.8</td>\n",
       "      <td>0.32219</td>\n",
       "    </tr>\n",
       "    <tr>\n",
       "      <th>2022-06-23</th>\n",
       "      <td>81.63</td>\n",
       "      <td>110.49</td>\n",
       "      <td>NaN</td>\n",
       "      <td>141.26</td>\n",
       "      <td>0.9616</td>\n",
       "      <td>1.7764</td>\n",
       "      <td>135.84</td>\n",
       "      <td>1086.11</td>\n",
       "      <td>20350.1</td>\n",
       "      <td>0.32690</td>\n",
       "    </tr>\n",
       "  </tbody>\n",
       "</table>\n",
       "<p>1922 rows × 10 columns</p>\n",
       "</div>"
      ],
      "text/plain": [
       "            Carbon Emissions  Brent Oil  Aluminum  CHFJPY  USDCHF  GBPAUD  \\\n",
       "Date                                                                        \n",
       "2015-01-02              7.01      56.42   1828.00  120.35  1.0013  1.8947   \n",
       "2015-01-05              6.90      53.11   1812.25  118.80  1.0071  1.8866   \n",
       "2015-01-06              6.77      51.10   1780.25  117.22  1.0101  1.8740   \n",
       "2015-01-07              6.78      51.15   1783.50  117.57  1.0144  1.8702   \n",
       "2015-01-08              6.81      50.96   1825.50  117.49  1.0186  1.8577   \n",
       "...                      ...        ...       ...     ...     ...     ...   \n",
       "2022-06-17             82.12     113.12   2498.00  139.12  0.9697  1.7615   \n",
       "2022-06-20             84.01     114.13   2527.00  139.59  0.9673  1.7618   \n",
       "2022-06-21             84.61     114.65   2533.50  141.37  0.9661  1.7613   \n",
       "2022-06-22             81.99     111.74   2479.50  141.68  0.9614  1.7705   \n",
       "2022-06-23             81.63     110.49       NaN  141.26  0.9616  1.7764   \n",
       "\n",
       "            USDJPY  Ethereum  Bitcoin      XRP  \n",
       "Date                                            \n",
       "2015-01-02  120.50       NaN    315.2      NaN  \n",
       "2015-01-05  119.64       NaN    274.8      NaN  \n",
       "2015-01-06  118.41       NaN    282.3      NaN  \n",
       "2015-01-07  119.25       NaN    291.3      NaN  \n",
       "2015-01-08  119.66       NaN    282.7      NaN  \n",
       "...            ...       ...      ...      ...  \n",
       "2022-06-17  134.96   1086.47  20444.6  0.32092  \n",
       "2022-06-20  135.08   1128.32  20572.3  0.32242  \n",
       "2022-06-21  136.61   1125.96  20720.4  0.32936  \n",
       "2022-06-22  136.26   1049.02  19965.8  0.32219  \n",
       "2022-06-23  135.84   1086.11  20350.1  0.32690  \n",
       "\n",
       "[1922 rows x 10 columns]"
      ]
     },
     "execution_count": 311,
     "metadata": {},
     "output_type": "execute_result"
    }
   ],
   "source": [
    "data=pd.DataFrame()\n",
    "for i in ticks:\n",
    "    d=pd.read_csv(\"{j}.csv\".format(j=i),index_col='Date',parse_dates=True)\n",
    "    data[i]=d['Close']\n",
    "data"
   ]
  },
  {
   "cell_type": "code",
   "execution_count": 312,
   "id": "6fb393bd",
   "metadata": {},
   "outputs": [
    {
     "data": {
      "text/plain": [
       "(1922, 10)"
      ]
     },
     "execution_count": 312,
     "metadata": {},
     "output_type": "execute_result"
    }
   ],
   "source": [
    "data.shape"
   ]
  },
  {
   "cell_type": "code",
   "execution_count": 313,
   "id": "70326fea",
   "metadata": {},
   "outputs": [
    {
     "data": {
      "text/plain": [
       "Carbon Emissions      0\n",
       "Brent Oil             0\n",
       "Aluminum             34\n",
       "CHFJPY                0\n",
       "USDCHF                0\n",
       "GBPAUD                0\n",
       "USDJPY                0\n",
       "Ethereum            305\n",
       "Bitcoin               0\n",
       "XRP                  14\n",
       "dtype: int64"
      ]
     },
     "execution_count": 313,
     "metadata": {},
     "output_type": "execute_result"
    }
   ],
   "source": [
    "np.isnan(data).sum()"
   ]
  },
  {
   "cell_type": "code",
   "execution_count": 314,
   "id": "6bc9847c",
   "metadata": {},
   "outputs": [
    {
     "data": {
      "text/html": [
       "<div>\n",
       "<style scoped>\n",
       "    .dataframe tbody tr th:only-of-type {\n",
       "        vertical-align: middle;\n",
       "    }\n",
       "\n",
       "    .dataframe tbody tr th {\n",
       "        vertical-align: top;\n",
       "    }\n",
       "\n",
       "    .dataframe thead th {\n",
       "        text-align: right;\n",
       "    }\n",
       "</style>\n",
       "<table border=\"1\" class=\"dataframe\">\n",
       "  <thead>\n",
       "    <tr style=\"text-align: right;\">\n",
       "      <th></th>\n",
       "      <th>Carbon Emissions</th>\n",
       "      <th>Brent Oil</th>\n",
       "      <th>Aluminum</th>\n",
       "      <th>CHFJPY</th>\n",
       "      <th>USDCHF</th>\n",
       "      <th>GBPAUD</th>\n",
       "      <th>USDJPY</th>\n",
       "      <th>Ethereum</th>\n",
       "      <th>Bitcoin</th>\n",
       "      <th>XRP</th>\n",
       "    </tr>\n",
       "    <tr>\n",
       "      <th>Date</th>\n",
       "      <th></th>\n",
       "      <th></th>\n",
       "      <th></th>\n",
       "      <th></th>\n",
       "      <th></th>\n",
       "      <th></th>\n",
       "      <th></th>\n",
       "      <th></th>\n",
       "      <th></th>\n",
       "      <th></th>\n",
       "    </tr>\n",
       "  </thead>\n",
       "  <tbody>\n",
       "    <tr>\n",
       "      <th>2016-03-10</th>\n",
       "      <td>4.90</td>\n",
       "      <td>40.05</td>\n",
       "      <td>1558.0</td>\n",
       "      <td>114.88</td>\n",
       "      <td>0.9849</td>\n",
       "      <td>1.9164</td>\n",
       "      <td>113.19</td>\n",
       "      <td>11.75</td>\n",
       "      <td>415.8</td>\n",
       "      <td>0.00820</td>\n",
       "    </tr>\n",
       "    <tr>\n",
       "      <th>2016-03-11</th>\n",
       "      <td>4.98</td>\n",
       "      <td>40.39</td>\n",
       "      <td>1560.0</td>\n",
       "      <td>115.72</td>\n",
       "      <td>0.9836</td>\n",
       "      <td>1.9009</td>\n",
       "      <td>113.81</td>\n",
       "      <td>11.95</td>\n",
       "      <td>419.1</td>\n",
       "      <td>0.00922</td>\n",
       "    </tr>\n",
       "    <tr>\n",
       "      <th>2016-03-14</th>\n",
       "      <td>4.85</td>\n",
       "      <td>39.53</td>\n",
       "      <td>1540.0</td>\n",
       "      <td>115.29</td>\n",
       "      <td>0.9873</td>\n",
       "      <td>1.9024</td>\n",
       "      <td>113.83</td>\n",
       "      <td>12.50</td>\n",
       "      <td>414.3</td>\n",
       "      <td>0.00830</td>\n",
       "    </tr>\n",
       "    <tr>\n",
       "      <th>2016-03-15</th>\n",
       "      <td>4.85</td>\n",
       "      <td>38.74</td>\n",
       "      <td>1520.0</td>\n",
       "      <td>114.65</td>\n",
       "      <td>0.9872</td>\n",
       "      <td>1.8980</td>\n",
       "      <td>113.19</td>\n",
       "      <td>13.06</td>\n",
       "      <td>415.1</td>\n",
       "      <td>0.00787</td>\n",
       "    </tr>\n",
       "    <tr>\n",
       "      <th>2016-03-16</th>\n",
       "      <td>4.95</td>\n",
       "      <td>40.33</td>\n",
       "      <td>1509.0</td>\n",
       "      <td>115.24</td>\n",
       "      <td>0.9770</td>\n",
       "      <td>1.8881</td>\n",
       "      <td>112.59</td>\n",
       "      <td>12.88</td>\n",
       "      <td>415.9</td>\n",
       "      <td>0.00819</td>\n",
       "    </tr>\n",
       "    <tr>\n",
       "      <th>...</th>\n",
       "      <td>...</td>\n",
       "      <td>...</td>\n",
       "      <td>...</td>\n",
       "      <td>...</td>\n",
       "      <td>...</td>\n",
       "      <td>...</td>\n",
       "      <td>...</td>\n",
       "      <td>...</td>\n",
       "      <td>...</td>\n",
       "      <td>...</td>\n",
       "    </tr>\n",
       "    <tr>\n",
       "      <th>2022-06-16</th>\n",
       "      <td>83.00</td>\n",
       "      <td>119.81</td>\n",
       "      <td>2504.5</td>\n",
       "      <td>136.71</td>\n",
       "      <td>0.9666</td>\n",
       "      <td>1.7523</td>\n",
       "      <td>132.20</td>\n",
       "      <td>1068.49</td>\n",
       "      <td>20386.6</td>\n",
       "      <td>0.31304</td>\n",
       "    </tr>\n",
       "    <tr>\n",
       "      <th>2022-06-17</th>\n",
       "      <td>82.12</td>\n",
       "      <td>113.12</td>\n",
       "      <td>2498.0</td>\n",
       "      <td>139.12</td>\n",
       "      <td>0.9697</td>\n",
       "      <td>1.7615</td>\n",
       "      <td>134.96</td>\n",
       "      <td>1086.47</td>\n",
       "      <td>20444.6</td>\n",
       "      <td>0.32092</td>\n",
       "    </tr>\n",
       "    <tr>\n",
       "      <th>2022-06-20</th>\n",
       "      <td>84.01</td>\n",
       "      <td>114.13</td>\n",
       "      <td>2527.0</td>\n",
       "      <td>139.59</td>\n",
       "      <td>0.9673</td>\n",
       "      <td>1.7618</td>\n",
       "      <td>135.08</td>\n",
       "      <td>1128.32</td>\n",
       "      <td>20572.3</td>\n",
       "      <td>0.32242</td>\n",
       "    </tr>\n",
       "    <tr>\n",
       "      <th>2022-06-21</th>\n",
       "      <td>84.61</td>\n",
       "      <td>114.65</td>\n",
       "      <td>2533.5</td>\n",
       "      <td>141.37</td>\n",
       "      <td>0.9661</td>\n",
       "      <td>1.7613</td>\n",
       "      <td>136.61</td>\n",
       "      <td>1125.96</td>\n",
       "      <td>20720.4</td>\n",
       "      <td>0.32936</td>\n",
       "    </tr>\n",
       "    <tr>\n",
       "      <th>2022-06-22</th>\n",
       "      <td>81.99</td>\n",
       "      <td>111.74</td>\n",
       "      <td>2479.5</td>\n",
       "      <td>141.68</td>\n",
       "      <td>0.9614</td>\n",
       "      <td>1.7705</td>\n",
       "      <td>136.26</td>\n",
       "      <td>1049.02</td>\n",
       "      <td>19965.8</td>\n",
       "      <td>0.32219</td>\n",
       "    </tr>\n",
       "  </tbody>\n",
       "</table>\n",
       "<p>1587 rows × 10 columns</p>\n",
       "</div>"
      ],
      "text/plain": [
       "            Carbon Emissions  Brent Oil  Aluminum  CHFJPY  USDCHF  GBPAUD  \\\n",
       "Date                                                                        \n",
       "2016-03-10              4.90      40.05    1558.0  114.88  0.9849  1.9164   \n",
       "2016-03-11              4.98      40.39    1560.0  115.72  0.9836  1.9009   \n",
       "2016-03-14              4.85      39.53    1540.0  115.29  0.9873  1.9024   \n",
       "2016-03-15              4.85      38.74    1520.0  114.65  0.9872  1.8980   \n",
       "2016-03-16              4.95      40.33    1509.0  115.24  0.9770  1.8881   \n",
       "...                      ...        ...       ...     ...     ...     ...   \n",
       "2022-06-16             83.00     119.81    2504.5  136.71  0.9666  1.7523   \n",
       "2022-06-17             82.12     113.12    2498.0  139.12  0.9697  1.7615   \n",
       "2022-06-20             84.01     114.13    2527.0  139.59  0.9673  1.7618   \n",
       "2022-06-21             84.61     114.65    2533.5  141.37  0.9661  1.7613   \n",
       "2022-06-22             81.99     111.74    2479.5  141.68  0.9614  1.7705   \n",
       "\n",
       "            USDJPY  Ethereum  Bitcoin      XRP  \n",
       "Date                                            \n",
       "2016-03-10  113.19     11.75    415.8  0.00820  \n",
       "2016-03-11  113.81     11.95    419.1  0.00922  \n",
       "2016-03-14  113.83     12.50    414.3  0.00830  \n",
       "2016-03-15  113.19     13.06    415.1  0.00787  \n",
       "2016-03-16  112.59     12.88    415.9  0.00819  \n",
       "...            ...       ...      ...      ...  \n",
       "2022-06-16  132.20   1068.49  20386.6  0.31304  \n",
       "2022-06-17  134.96   1086.47  20444.6  0.32092  \n",
       "2022-06-20  135.08   1128.32  20572.3  0.32242  \n",
       "2022-06-21  136.61   1125.96  20720.4  0.32936  \n",
       "2022-06-22  136.26   1049.02  19965.8  0.32219  \n",
       "\n",
       "[1587 rows x 10 columns]"
      ]
     },
     "execution_count": 314,
     "metadata": {},
     "output_type": "execute_result"
    }
   ],
   "source": [
    "data=data.dropna()\n",
    "data"
   ]
  },
  {
   "cell_type": "code",
   "execution_count": 315,
   "id": "f668b4e3",
   "metadata": {},
   "outputs": [
    {
     "data": {
      "text/plain": [
       "Carbon Emissions       23.019256\n",
       "Brent Oil              17.409430\n",
       "Aluminum              438.734876\n",
       "CHFJPY                  6.035554\n",
       "USDCHF                  0.035006\n",
       "GBPAUD                  0.085685\n",
       "USDJPY                  5.048319\n",
       "Ethereum             1159.015327\n",
       "Bitcoin             17244.483620\n",
       "XRP                     0.374044\n",
       "dtype: float64"
      ]
     },
     "execution_count": 315,
     "metadata": {},
     "output_type": "execute_result"
    }
   ],
   "source": [
    "SD = data.std()\n",
    "SD"
   ]
  },
  {
   "cell_type": "markdown",
   "id": "81607fed",
   "metadata": {},
   "source": [
    "# XRP"
   ]
  },
  {
   "cell_type": "code",
   "execution_count": 317,
   "id": "5b3bcedd",
   "metadata": {},
   "outputs": [],
   "source": [
    "min_max_scaler = preprocessing.MinMaxScaler(feature_range=(0, 1))\n",
    "dataset = min_max_scaler.fit_transform(crypto1['Close'].values.reshape(-1, 1))"
   ]
  },
  {
   "cell_type": "code",
   "execution_count": 318,
   "id": "167df10c",
   "metadata": {},
   "outputs": [
    {
     "data": {
      "text/plain": [
       "array([[0.00448776],\n",
       "       [0.00448056],\n",
       "       [0.0049812 ],\n",
       "       [0.00484073],\n",
       "       [0.00400873],\n",
       "       [0.00430047],\n",
       "       [0.00412038],\n",
       "       [0.00358012],\n",
       "       [0.00412038],\n",
       "       [0.00411678],\n",
       "       [0.00358733],\n",
       "       [0.00349728],\n",
       "       [0.00404835],\n",
       "       [0.00376021],\n",
       "       [0.00438331],\n",
       "       [0.00430047],\n",
       "       [0.00400513],\n",
       "       [0.00386106],\n",
       "       [0.00358012],\n",
       "       [0.00399072],\n",
       "       [0.00398352],\n",
       "       [0.00386826],\n",
       "       [0.00392229],\n",
       "       [0.00303986],\n",
       "       [0.00303986],\n",
       "       [0.0041492 ],\n",
       "       [0.00340364],\n",
       "       [0.00411678],\n",
       "       [0.00342525],\n",
       "       [0.00342525],\n",
       "       [0.00342525],\n",
       "       [0.00342525],\n",
       "       [0.00377102],\n",
       "       [0.00355491],\n",
       "       [0.00376021],\n",
       "       [0.00340004],\n",
       "       [0.00306147],\n",
       "       [0.00296063],\n",
       "       [0.00268329],\n",
       "       [0.00109853],\n",
       "       [0.00177926],\n",
       "       [0.00303986],\n",
       "       [0.00303986],\n",
       "       [0.00246359],\n",
       "       [0.00242757],\n",
       "       [0.00224028],\n",
       "       [0.00225108],\n",
       "       [0.00215384],\n",
       "       [0.00149112],\n",
       "       [0.00261486],\n",
       "       [0.00257524],\n",
       "       [0.00272291],\n",
       "       [0.00253562],\n",
       "       [0.00251401],\n",
       "       [0.00251041],\n",
       "       [0.00240596],\n",
       "       [0.00265448],\n",
       "       [0.00142629],\n",
       "       [0.00235914],\n",
       "       [0.00233392],\n",
       "       [0.00222227],\n",
       "       [0.00229791],\n",
       "       [0.00203138],\n",
       "       [0.00177926],\n",
       "       [0.0018693 ],\n",
       "       [0.00194133],\n",
       "       [0.00172523],\n",
       "       [0.0016712 ],\n",
       "       [0.00150553],\n",
       "       [0.00156315],\n",
       "       [0.00154514],\n",
       "       [0.00193413],\n",
       "       [0.00209261],\n",
       "       [0.00190172],\n",
       "       [0.00188011],\n",
       "       [0.00199536],\n",
       "       [0.00202417],\n",
       "       [0.00202778],\n",
       "       [0.00202417],\n",
       "       [0.00159917],\n",
       "       [0.00159917],\n",
       "       [0.00169642],\n",
       "       [0.00169642],\n",
       "       [0.00169642],\n",
       "       [0.00169642],\n",
       "       [0.00169642],\n",
       "       [0.00169642],\n",
       "       [0.00169642],\n",
       "       [0.        ],\n",
       "       [0.        ],\n",
       "       [0.00015848],\n",
       "       [0.00169642],\n",
       "       [0.00160637],\n",
       "       [0.00160637],\n",
       "       [0.00151993],\n",
       "       [0.00161718],\n",
       "       [0.00149112],\n",
       "       [0.00146951],\n",
       "       [0.00177926],\n",
       "       [0.00177926]])"
      ]
     },
     "execution_count": 318,
     "metadata": {},
     "output_type": "execute_result"
    }
   ],
   "source": [
    "dataset[0:100]\n"
   ]
  },
  {
   "cell_type": "code",
   "execution_count": 319,
   "id": "fb951e7d",
   "metadata": {},
   "outputs": [
    {
     "name": "stdout",
     "output_type": "stream",
     "text": [
      "2168 542\n"
     ]
    }
   ],
   "source": [
    "# split into train and test sets\n",
    "train_size = int(len(dataset) * 0.8)\n",
    "test_size = len(dataset) - train_size\n",
    "train, test = dataset[0:train_size,:], dataset[train_size:len(dataset),:]\n",
    "print(len(train), len(test))"
   ]
  },
  {
   "cell_type": "code",
   "execution_count": 320,
   "id": "bfe68154",
   "metadata": {},
   "outputs": [
    {
     "name": "stdout",
     "output_type": "stream",
     "text": [
      "2710\n"
     ]
    }
   ],
   "source": [
    "print(len(crypto1))\n"
   ]
  },
  {
   "cell_type": "code",
   "execution_count": 321,
   "id": "29bb6aed",
   "metadata": {},
   "outputs": [],
   "source": [
    "# convert an array of values into a dataset matrix\n",
    "def create_dataset(dataset, look_back=5):\n",
    "    dataX, dataY = [], []\n",
    "    for i in range(len(dataset)-look_back-1):\n",
    "        a = dataset[i:(i+look_back), 0]\n",
    "        dataX.append(a)\n",
    "        dataY.append(dataset[i + look_back, 0])\n",
    "    return np.array(dataX), np.array(dataY)"
   ]
  },
  {
   "cell_type": "code",
   "execution_count": 322,
   "id": "6ee032a8",
   "metadata": {},
   "outputs": [],
   "source": [
    "x_train, y_train = create_dataset(train, look_back=5)\n",
    "x_test, y_test = create_dataset(test, look_back=5)"
   ]
  },
  {
   "cell_type": "code",
   "execution_count": 323,
   "id": "94a10499",
   "metadata": {},
   "outputs": [
    {
     "name": "stdout",
     "output_type": "stream",
     "text": [
      "(2162, 5)\n",
      "(2162,)\n",
      "(536, 5)\n",
      "(536,)\n"
     ]
    }
   ],
   "source": [
    "print(x_train.shape)\n",
    "print(y_train.shape)\n",
    "print(x_test.shape)\n",
    "print(y_test.shape)"
   ]
  },
  {
   "cell_type": "code",
   "execution_count": 324,
   "id": "fd1f2ee8",
   "metadata": {},
   "outputs": [],
   "source": [
    "x_train = np.reshape(x_train, (x_train.shape[0], 1, x_train.shape[1]))\n",
    "x_test = np.reshape(x_test, (x_test.shape[0], 1, x_test.shape[1]))"
   ]
  },
  {
   "cell_type": "code",
   "execution_count": 325,
   "id": "421852ce",
   "metadata": {},
   "outputs": [
    {
     "name": "stdout",
     "output_type": "stream",
     "text": [
      "(2162, 1, 5)\n",
      "(2162,)\n",
      "(536, 1, 5)\n",
      "(536,)\n"
     ]
    }
   ],
   "source": [
    "print(x_train.shape)\n",
    "print(y_train.shape)\n",
    "print(x_test.shape)\n",
    "print(y_test.shape)"
   ]
  },
  {
   "cell_type": "code",
   "execution_count": 326,
   "id": "083b85f8",
   "metadata": {},
   "outputs": [
    {
     "name": "stdout",
     "output_type": "stream",
     "text": [
      "Epoch 1/20\n",
      "2162/2162 - 12s - loss: 0.0020\n",
      "Epoch 2/20\n",
      "2162/2162 - 10s - loss: 3.9383e-04\n",
      "Epoch 3/20\n",
      "2162/2162 - 10s - loss: 3.3713e-04\n",
      "Epoch 4/20\n",
      "2162/2162 - 11s - loss: 3.0237e-04\n",
      "Epoch 5/20\n",
      "2162/2162 - 12s - loss: 2.5864e-04\n",
      "Epoch 6/20\n",
      "2162/2162 - 13s - loss: 3.0743e-04\n",
      "Epoch 7/20\n",
      "2162/2162 - 12s - loss: 2.3206e-04\n",
      "Epoch 8/20\n",
      "2162/2162 - 13s - loss: 2.7726e-04\n",
      "Epoch 9/20\n",
      "2162/2162 - 12s - loss: 2.6359e-04\n",
      "Epoch 10/20\n",
      "2162/2162 - 11s - loss: 2.6211e-04\n",
      "Epoch 11/20\n",
      "2162/2162 - 12s - loss: 2.7159e-04\n",
      "Epoch 12/20\n",
      "2162/2162 - 12s - loss: 2.5557e-04\n",
      "Epoch 13/20\n",
      "2162/2162 - 13s - loss: 2.5598e-04\n",
      "Epoch 14/20\n",
      "2162/2162 - 13s - loss: 2.4175e-04\n",
      "Epoch 15/20\n",
      "2162/2162 - 11s - loss: 2.4562e-04\n",
      "Epoch 16/20\n",
      "2162/2162 - 11s - loss: 2.4026e-04\n",
      "Epoch 17/20\n",
      "2162/2162 - 12s - loss: 2.2362e-04\n",
      "Epoch 18/20\n",
      "2162/2162 - 12s - loss: 2.5438e-04\n",
      "Epoch 19/20\n",
      "2162/2162 - 13s - loss: 2.5032e-04\n",
      "Epoch 20/20\n",
      "2162/2162 - 13s - loss: 2.3351e-04\n"
     ]
    },
    {
     "data": {
      "text/plain": [
       "<keras.callbacks.History at 0x1a126aa0730>"
      ]
     },
     "execution_count": 326,
     "metadata": {},
     "output_type": "execute_result"
    }
   ],
   "source": [
    "# create and fit the LSTM network\n",
    "look_back=5\n",
    "model = Sequential()\n",
    "model.add(LSTM(20, input_shape=(1, look_back)))\n",
    "model.add(Dense(1))\n",
    "model.add(Activation('linear'))\n",
    "\n",
    "model.compile(loss='mean_squared_error', optimizer='adam')\n",
    "model.fit(x_train, y_train, epochs=20, batch_size=1, verbose=2)"
   ]
  },
  {
   "cell_type": "code",
   "execution_count": 46,
   "id": "83e0879c",
   "metadata": {},
   "outputs": [
    {
     "data": {
      "text/plain": [
       "\"model.add(LSTM(128, return_sequences=True, input_shape= (X_train.shape[1], 1)))\\nmodel.add(Dropout(0.2))\\n\\nmodel.add(LSTM(64, return_sequences=False))\\nmodel.add(Dropout(0.2)) \\n\\n\\n\\n\\n\\nmodel.add(Dense(25))\\nmodel.add(Dense(1))\\nmodel.add(Activation('linear'))\\n\""
      ]
     },
     "execution_count": 46,
     "metadata": {},
     "output_type": "execute_result"
    }
   ],
   "source": [
    "\n",
    "'''model.add(LSTM(128, return_sequences=True, input_shape= (X_train.shape[1], 1)))\n",
    "model.add(Dropout(0.2))\n",
    "\n",
    "model.add(LSTM(64, return_sequences=False))\n",
    "model.add(Dropout(0.2)) \n",
    "\n",
    "\n",
    "\n",
    "\n",
    "\n",
    "model.add(Dense(25))\n",
    "model.add(Dense(1))\n",
    "model.add(Activation('linear'))\n",
    "'''"
   ]
  },
  {
   "cell_type": "code",
   "execution_count": 327,
   "id": "c6961a1b",
   "metadata": {},
   "outputs": [
    {
     "name": "stdout",
     "output_type": "stream",
     "text": [
      "Train Score: 0.04 RMSE\n",
      "Test Score: 0.07 RMSE\n"
     ]
    }
   ],
   "source": [
    "trainPredict = model.predict(x_train)\n",
    "testPredict = model.predict(x_test)\n",
    "# invert predictions\n",
    "trainPredict = min_max_scaler.inverse_transform(trainPredict)\n",
    "trainY = min_max_scaler.inverse_transform([y_train])\n",
    "testPredict = min_max_scaler.inverse_transform(testPredict)\n",
    "testY = min_max_scaler.inverse_transform([y_test])\n",
    "# calculate root mean squared error\n",
    "trainScore = math.sqrt(mean_squared_error(trainY[0], trainPredict[:,0]))\n",
    "print('Train Score: %.2f RMSE' % (trainScore))\n",
    "testScore = math.sqrt(mean_squared_error(testY[0], testPredict[:,0]))\n",
    "print('Test Score: %.2f RMSE' % (testScore))"
   ]
  },
  {
   "cell_type": "code",
   "execution_count": 328,
   "id": "3a7e7b81",
   "metadata": {},
   "outputs": [
    {
     "data": {
      "image/png": "[encoded data removed]",
      "text/plain": [
       "<Figure size 1080x648 with 1 Axes>"
      ]
     },
     "metadata": {
      "needs_background": "light"
     },
     "output_type": "display_data"
    }
   ],
   "source": [
    "# shift train predictions for plotting\n",
    "trainPredictPlot = np.empty_like(dataset)\n",
    "trainPredictPlot[:, :] = np.nan\n",
    "trainPredictPlot[look_back:len(trainPredict)+look_back, :] = trainPredict\n",
    "# shift test predictions for plotting\n",
    "testPredictPlot = np.empty_like(dataset)\n",
    "testPredictPlot[:, :] = np.nan\n",
    "testPredictPlot[len(trainPredict)+(look_back*2)+1:len(dataset)-1, :] = testPredict\n",
    "# plot baseline and predictions\n",
    "plt.figure(figsize = (15 , 9))\n",
    "plt.plot(min_max_scaler.inverse_transform(dataset))\n",
    "plt.plot(trainPredictPlot)\n",
    "plt.plot(testPredictPlot)\n",
    "plt.show()"
   ]
  },
  {
   "cell_type": "code",
   "execution_count": 392,
   "id": "e272585d",
   "metadata": {},
   "outputs": [
    {
     "name": "stdout",
     "output_type": "stream",
     "text": [
      "2695   2022-06-09\n",
      "2696   2022-06-10\n",
      "2697   2022-06-11\n",
      "2698   2022-06-12\n",
      "2699   2022-06-13\n",
      "2700   2022-06-14\n",
      "2701   2022-06-15\n",
      "2702   2022-06-16\n",
      "2703   2022-06-17\n",
      "2704   2022-06-18\n",
      "2705   2022-06-19\n",
      "2706   2022-06-20\n",
      "2707   2022-06-21\n",
      "2708   2022-06-22\n",
      "2709   2022-06-23\n",
      "Name: Date, dtype: datetime64[ns]\n",
      "trainX shape == (2709, 1, 5).\n",
      "trainY shape == (2709, 1).\n",
      "Epoch 1/5\n",
      "153/153 [==============================] - 2s 15ms/step - loss: 0.0259 - val_loss: 0.0077\n",
      "Epoch 2/5\n",
      "153/153 [==============================] - 2s 14ms/step - loss: 0.0133 - val_loss: 0.0033\n",
      "Epoch 3/5\n",
      "153/153 [==============================] - 2s 15ms/step - loss: 0.0090 - val_loss: 0.0012\n",
      "Epoch 4/5\n",
      "153/153 [==============================] - 2s 15ms/step - loss: 0.0066 - val_loss: 0.0011\n",
      "Epoch 5/5\n",
      "153/153 [==============================] - 2s 15ms/step - loss: 0.0051 - val_loss: 0.0029\n",
      "[Timestamp('2022-06-23 00:00:00', freq='C'), Timestamp('2022-06-24 00:00:00', freq='C')]\n"
     ]
    },
    {
     "data": {
      "text/plain": [
       "<AxesSubplot:xlabel='Date', ylabel='Close'>"
      ]
     },
     "execution_count": 392,
     "metadata": {},
     "output_type": "execute_result"
    },
    {
     "data": {
      "image/png": "[encoded data removed]",
      "text/plain": [
       "<Figure size 1080x648 with 1 Axes>"
      ]
     },
     "metadata": {
      "needs_background": "light"
     },
     "output_type": "display_data"
    }
   ],
   "source": [
    "\n",
    "\n",
    "#forecasting \n",
    "\n",
    "from sklearn.preprocessing import StandardScaler \n",
    "import seaborn as sns\n",
    "\n",
    "\n",
    "\n",
    "train_dates = pd.to_datetime(crypto1['Date'])\n",
    "print(train_dates.tail(15)) #Check last few dates. \n",
    "\n",
    "cols = list(crypto1)[1:6]\n",
    "\n",
    "df = crypto1\n",
    "\n",
    "df_for_training = df[cols].astype(float)\n",
    "\n",
    "scaler = StandardScaler()\n",
    "scaler = scaler.fit(df_for_training)\n",
    "df_for_training_scaled = scaler.transform(df_for_training)\n",
    "\n",
    "\n",
    "#As required for LSTM networks, we require to reshape an input data into n_samples x timesteps x n_features. \n",
    "#In this example, the n_features is 5. We will make timesteps = 14 (past days data used for training). \n",
    "\n",
    "#Empty lists to be populated using formatted training data\n",
    "trainX = []\n",
    "trainY = []\n",
    "\n",
    "n_future = 1   # Number of days we want to look into the future based on the past days.\n",
    "n_past = 1  # Number of past days we want to use to predict the future. \n",
    "\n",
    "for i in range(n_past, len(df_for_training_scaled) - n_future +1):\n",
    "    trainX.append(df_for_training_scaled[i - n_past:i, 0:df_for_training.shape[1]])\n",
    "    trainY.append(df_for_training_scaled[i + n_future - 1:i + n_future, 0])\n",
    "\n",
    "trainX, trainY = np.array(trainX), np.array(trainY)\n",
    "\n",
    "print('trainX shape == {}.'.format(trainX.shape))\n",
    "print('trainY shape == {}.'.format(trainY.shape))\n",
    "\n",
    "history = model.fit(trainX, trainY, epochs=5, batch_size=16, validation_split=0.1, verbose=1) \n",
    "\n",
    "\n",
    "#Libraries that will help us extract only business days in the US.\n",
    "#Otherwise our dates would be wrong when we look back (or forward).  \n",
    "from pandas.tseries.holiday import USFederalHolidayCalendar\n",
    "from pandas.tseries.offsets import CustomBusinessDay\n",
    "us_bd = CustomBusinessDay(calendar=USFederalHolidayCalendar())\n",
    "\n",
    "n_days_for_prediction=2\n",
    "\n",
    "predict_period_dates = pd.date_range(list(train_dates)[-n_past], periods=n_days_for_prediction, freq=us_bd).tolist()\n",
    "print(predict_period_dates)\n",
    "\n",
    "#Make prediction\n",
    "prediction = model.predict(trainX[-n_days_for_prediction:]) #shape = (n, 1) where n is the n_days_for_prediction\n",
    "\n",
    "#Perform inverse transformation to rescale back to original range\n",
    "prediction_copies = np.repeat(prediction, df_for_training.shape[1], axis=-1)\n",
    "y_pred_future = scaler.inverse_transform(prediction_copies)[:,0]\n",
    "\n",
    "\n",
    "# Convert timestamp to date\n",
    "forecast_dates = []\n",
    "for time_i in predict_period_dates:\n",
    "    forecast_dates.append(time_i.date())\n",
    "    \n",
    "df_forecast = pd.DataFrame({'Date':np.array(forecast_dates), 'Close':y_pred_future})\n",
    "df_forecast['Date']=pd.to_datetime(df_forecast['Date'])\n",
    "\n",
    "\n",
    "original = df[['Date', 'Close']]\n",
    "original['Date']=pd.to_datetime(original['Date'])\n",
    "original = original.loc[original['Date'] >= '2022-06-24']\n",
    "plt.figure(figsize=(15,9))\n",
    "sns.lineplot(original['Date'], original['Close'])\n",
    "sns.lineplot(df_forecast['Date'], df_forecast['Close'])\n"
   ]
  },
  {
   "cell_type": "code",
   "execution_count": 393,
   "id": "31863085",
   "metadata": {},
   "outputs": [
    {
     "data": {
      "text/plain": [
       "array([0.33212355, 0.32802856], dtype=float32)"
      ]
     },
     "execution_count": 393,
     "metadata": {},
     "output_type": "execute_result"
    }
   ],
   "source": [
    "y_pred_future"
   ]
  },
  {
   "cell_type": "code",
   "execution_count": 394,
   "id": "01e0b662",
   "metadata": {},
   "outputs": [
    {
     "name": "stdout",
     "output_type": "stream",
     "text": [
      "la valeur prédite du XRP a la date 2022-06-24 0.32802856\n"
     ]
    }
   ],
   "source": [
    "print(\"la valeur prédite du XRP a la date 2022-06-24\", y_pred_future[-1])"
   ]
  },
  {
   "cell_type": "markdown",
   "id": "451e7a3a",
   "metadata": {},
   "source": [
    "# Bitecoin "
   ]
  },
  {
   "cell_type": "code",
   "execution_count": 343,
   "id": "7b270751",
   "metadata": {},
   "outputs": [],
   "source": [
    "min_max_scaler = preprocessing.MinMaxScaler(feature_range=(0, 1))\n",
    "dataset = min_max_scaler.fit_transform(crypto2['Close'].values.reshape(-1, 1))"
   ]
  },
  {
   "cell_type": "code",
   "execution_count": null,
   "id": "82ff9fd2",
   "metadata": {},
   "outputs": [],
   "source": []
  },
  {
   "cell_type": "code",
   "execution_count": 344,
   "id": "f55a0e02",
   "metadata": {},
   "outputs": [
    {
     "name": "stdout",
     "output_type": "stream",
     "text": [
      "2184 547\n"
     ]
    }
   ],
   "source": [
    "# split into train and test sets\n",
    "train_size = int(len(dataset) * 0.8)\n",
    "test_size = len(dataset) - train_size\n",
    "train, test = dataset[0:train_size,:], dataset[train_size:len(dataset),:]\n",
    "print(len(train), len(test))"
   ]
  },
  {
   "cell_type": "code",
   "execution_count": 345,
   "id": "6836fd79",
   "metadata": {},
   "outputs": [],
   "source": [
    "# convert an array of values into a dataset matrix\n",
    "def create_dataset(dataset, look_back=5):\n",
    "    dataX, dataY = [], []\n",
    "    for i in range(len(dataset)-look_back-1):\n",
    "        a = dataset[i:(i+look_back), 0]\n",
    "        dataX.append(a)\n",
    "        dataY.append(dataset[i + look_back, 0])\n",
    "    return np.array(dataX), np.array(dataY)"
   ]
  },
  {
   "cell_type": "code",
   "execution_count": 346,
   "id": "283a1d65",
   "metadata": {},
   "outputs": [],
   "source": [
    "x_train, y_train = create_dataset(train, look_back=5)\n",
    "x_test, y_test = create_dataset(test, look_back=5)"
   ]
  },
  {
   "cell_type": "code",
   "execution_count": 347,
   "id": "8569ff59",
   "metadata": {},
   "outputs": [
    {
     "name": "stdout",
     "output_type": "stream",
     "text": [
      "(2178, 5)\n",
      "(2178,)\n",
      "(541, 5)\n",
      "(541,)\n"
     ]
    }
   ],
   "source": [
    "print(x_train.shape)\n",
    "print(y_train.shape)\n",
    "print(x_test.shape)\n",
    "print(y_test.shape)"
   ]
  },
  {
   "cell_type": "code",
   "execution_count": 348,
   "id": "bde23e11",
   "metadata": {},
   "outputs": [],
   "source": [
    "x_train = np.reshape(x_train, (x_train.shape[0], 1, x_train.shape[1]))\n",
    "x_test = np.reshape(x_test, (x_test.shape[0], 1, x_test.shape[1]))"
   ]
  },
  {
   "cell_type": "code",
   "execution_count": 349,
   "id": "e9b01e90",
   "metadata": {},
   "outputs": [
    {
     "name": "stdout",
     "output_type": "stream",
     "text": [
      "(2178, 1, 5)\n",
      "(2178,)\n",
      "(541, 1, 5)\n",
      "(541,)\n"
     ]
    }
   ],
   "source": [
    "print(x_train.shape)\n",
    "print(y_train.shape)\n",
    "print(x_test.shape)\n",
    "print(y_test.shape)"
   ]
  },
  {
   "cell_type": "code",
   "execution_count": 350,
   "id": "de79ea50",
   "metadata": {},
   "outputs": [
    {
     "name": "stdout",
     "output_type": "stream",
     "text": [
      "Epoch 1/20\n",
      "2178/2178 - 13s - loss: 2.3849e-04\n",
      "Epoch 2/20\n",
      "2178/2178 - 11s - loss: 5.5847e-05\n",
      "Epoch 3/20\n",
      "2178/2178 - 11s - loss: 5.1838e-05\n",
      "Epoch 4/20\n",
      "2178/2178 - 11s - loss: 4.4037e-05\n",
      "Epoch 5/20\n",
      "2178/2178 - 11s - loss: 3.9777e-05\n",
      "Epoch 6/20\n",
      "2178/2178 - 11s - loss: 3.7676e-05\n",
      "Epoch 7/20\n",
      "2178/2178 - 11s - loss: 3.8209e-05\n",
      "Epoch 8/20\n",
      "2178/2178 - 11s - loss: 3.3477e-05\n",
      "Epoch 9/20\n",
      "2178/2178 - 11s - loss: 3.4696e-05\n",
      "Epoch 10/20\n",
      "2178/2178 - 12s - loss: 3.4910e-05\n",
      "Epoch 11/20\n",
      "2178/2178 - 11s - loss: 3.5722e-05\n",
      "Epoch 12/20\n",
      "2178/2178 - 12s - loss: 3.3892e-05\n",
      "Epoch 13/20\n",
      "2178/2178 - 13s - loss: 3.3455e-05\n",
      "Epoch 14/20\n",
      "2178/2178 - 13s - loss: 3.1292e-05\n",
      "Epoch 15/20\n",
      "2178/2178 - 13s - loss: 3.1693e-05\n",
      "Epoch 16/20\n",
      "2178/2178 - 13s - loss: 3.1431e-05\n",
      "Epoch 17/20\n",
      "2178/2178 - 11s - loss: 3.1699e-05\n",
      "Epoch 18/20\n",
      "2178/2178 - 11s - loss: 3.1042e-05\n",
      "Epoch 19/20\n",
      "2178/2178 - 12s - loss: 3.1338e-05\n",
      "Epoch 20/20\n",
      "2178/2178 - 11s - loss: 3.2329e-05\n"
     ]
    },
    {
     "data": {
      "text/plain": [
       "<keras.callbacks.History at 0x1a140ed9bb0>"
      ]
     },
     "execution_count": 350,
     "metadata": {},
     "output_type": "execute_result"
    }
   ],
   "source": [
    "# create and fit the LSTM network\n",
    "look_back=5\n",
    "model = Sequential()\n",
    "model.add(LSTM(20, input_shape=(1, look_back)))\n",
    "model.add(Dense(1))\n",
    "model.add(Activation('linear'))\n",
    "\n",
    "model.compile(loss='mean_squared_error', optimizer='adam')\n",
    "model.fit(x_train, y_train, epochs=20, batch_size=1, verbose=2)"
   ]
  },
  {
   "cell_type": "code",
   "execution_count": 351,
   "id": "5a563713",
   "metadata": {},
   "outputs": [
    {
     "name": "stdout",
     "output_type": "stream",
     "text": [
      "Train Score: 324.87 RMSE\n",
      "Test Score: 3559.11 RMSE\n"
     ]
    }
   ],
   "source": [
    "trainPredict = model.predict(x_train)\n",
    "testPredict = model.predict(x_test)\n",
    "# invert predictions\n",
    "trainPredict = min_max_scaler.inverse_transform(trainPredict)\n",
    "trainY = min_max_scaler.inverse_transform([y_train])\n",
    "testPredict = min_max_scaler.inverse_transform(testPredict)\n",
    "testY = min_max_scaler.inverse_transform([y_test])\n",
    "# calculate root mean squared error\n",
    "trainScore = math.sqrt(mean_squared_error(trainY[0], trainPredict[:,0]))\n",
    "print('Train Score: %.2f RMSE' % (trainScore))\n",
    "testScore = math.sqrt(mean_squared_error(testY[0], testPredict[:,0]))\n",
    "print('Test Score: %.2f RMSE' % (testScore))"
   ]
  },
  {
   "cell_type": "code",
   "execution_count": 352,
   "id": "7786b3b4",
   "metadata": {},
   "outputs": [
    {
     "data": {
      "image/png": "[encoded data removed]",
      "text/plain": [
       "<Figure size 1080x648 with 1 Axes>"
      ]
     },
     "metadata": {
      "needs_background": "light"
     },
     "output_type": "display_data"
    }
   ],
   "source": [
    "# shift train predictions for plotting\n",
    "trainPredictPlot = np.empty_like(dataset)\n",
    "trainPredictPlot[:, :] = np.nan\n",
    "trainPredictPlot[look_back:len(trainPredict)+look_back, :] = trainPredict\n",
    "# shift test predictions for plotting\n",
    "testPredictPlot = np.empty_like(dataset)\n",
    "testPredictPlot[:, :] = np.nan\n",
    "testPredictPlot[len(trainPredict)+(look_back*2)+1:len(dataset)-1, :] = testPredict\n",
    "# plot baseline and predictions\n",
    "plt.figure(figsize = (15 , 9))\n",
    "plt.plot(min_max_scaler.inverse_transform(dataset))\n",
    "plt.plot(trainPredictPlot)\n",
    "plt.plot(testPredictPlot)\n",
    "plt.show()"
   ]
  },
  {
   "cell_type": "code",
   "execution_count": 389,
   "id": "31250029",
   "metadata": {},
   "outputs": [
    {
     "name": "stdout",
     "output_type": "stream",
     "text": [
      "2695   2022-06-09\n",
      "2696   2022-06-10\n",
      "2697   2022-06-11\n",
      "2698   2022-06-12\n",
      "2699   2022-06-13\n",
      "2700   2022-06-14\n",
      "2701   2022-06-15\n",
      "2702   2022-06-16\n",
      "2703   2022-06-17\n",
      "2704   2022-06-18\n",
      "2705   2022-06-19\n",
      "2706   2022-06-20\n",
      "2707   2022-06-21\n",
      "2708   2022-06-22\n",
      "2709   2022-06-23\n",
      "Name: Date, dtype: datetime64[ns]\n",
      "trainX shape == (2730, 1, 5).\n",
      "trainY shape == (2730, 1).\n",
      "Epoch 1/5\n",
      "154/154 [==============================] - 2s 16ms/step - loss: 4.1388e-04 - val_loss: 0.0371\n",
      "Epoch 2/5\n",
      "154/154 [==============================] - 2s 15ms/step - loss: 3.5638e-04 - val_loss: 0.0401\n",
      "Epoch 3/5\n",
      "154/154 [==============================] - 2s 15ms/step - loss: 3.1965e-04 - val_loss: 0.0427\n",
      "Epoch 4/5\n",
      "154/154 [==============================] - 2s 15ms/step - loss: 3.0142e-04 - val_loss: 0.0402\n",
      "Epoch 5/5\n",
      "154/154 [==============================] - 2s 14ms/step - loss: 2.8604e-04 - val_loss: 0.0408\n",
      "[Timestamp('2022-06-23 00:00:00', freq='C'), Timestamp('2022-06-24 00:00:00', freq='C')]\n"
     ]
    },
    {
     "data": {
      "text/plain": [
       "<AxesSubplot:xlabel='Date', ylabel='Open'>"
      ]
     },
     "execution_count": 389,
     "metadata": {},
     "output_type": "execute_result"
    },
    {
     "data": {
      "image/png": "[encoded data removed]",
      "text/plain": [
       "<Figure size 1080x648 with 1 Axes>"
      ]
     },
     "metadata": {
      "needs_background": "light"
     },
     "output_type": "display_data"
    }
   ],
   "source": [
    "from sklearn.preprocessing import StandardScaler \n",
    "import seaborn as sns\n",
    "\n",
    "\n",
    "\n",
    "train_dates = pd.to_datetime(crypto1['Date'])\n",
    "print(train_dates.tail(15)) #Check last few dates. \n",
    "\n",
    "cols = list(crypto1)[1:6]\n",
    "\n",
    "df = crypto2\n",
    "\n",
    "df_for_training = df[cols].astype(float)\n",
    "\n",
    "scaler = StandardScaler()\n",
    "scaler = scaler.fit(df_for_training)\n",
    "df_for_training_scaled = scaler.transform(df_for_training)\n",
    "\n",
    "\n",
    "#As required for LSTM networks, we require to reshape an input data into n_samples x timesteps x n_features. \n",
    "#In this example, the n_features is 5. We will make timesteps = 14 (past days data used for training). \n",
    "\n",
    "#Empty lists to be populated using formatted training data\n",
    "trainX = []\n",
    "trainY = []\n",
    "\n",
    "n_future = 1   # Number of days we want to look into the future based on the past days.\n",
    "n_past = 1  # Number of past days we want to use to predict the future. \n",
    "\n",
    "for i in range(n_past, len(df_for_training_scaled) - n_future +1):\n",
    "    trainX.append(df_for_training_scaled[i - n_past:i, 0:df_for_training.shape[1]])\n",
    "    trainY.append(df_for_training_scaled[i + n_future - 1:i + n_future, 0])\n",
    "\n",
    "trainX, trainY = np.array(trainX), np.array(trainY)\n",
    "\n",
    "print('trainX shape == {}.'.format(trainX.shape))\n",
    "print('trainY shape == {}.'.format(trainY.shape))\n",
    "\n",
    "history = model.fit(trainX, trainY, epochs=5, batch_size=16, validation_split=0.1, verbose=1) \n",
    "\n",
    "\n",
    "#Libraries that will help us extract only business days in the US.\n",
    "#Otherwise our dates would be wrong when we look back (or forward).  \n",
    "from pandas.tseries.holiday import USFederalHolidayCalendar\n",
    "from pandas.tseries.offsets import CustomBusinessDay\n",
    "us_bd = CustomBusinessDay(calendar=USFederalHolidayCalendar())\n",
    "\n",
    "n_days_for_prediction=2\n",
    "\n",
    "predict_period_dates = pd.date_range(list(train_dates)[-n_past], periods=n_days_for_prediction, freq=us_bd).tolist()\n",
    "print(predict_period_dates)\n",
    "\n",
    "#Make prediction\n",
    "prediction = model.predict(trainX[-n_days_for_prediction:]) #shape = (n, 1) where n is the n_days_for_prediction\n",
    "\n",
    "#Perform inverse transformation to rescale back to original range\n",
    "prediction_copies = np.repeat(prediction, df_for_training.shape[1], axis=-1)\n",
    "y_pred_future = scaler.inverse_transform(prediction_copies)[:,0]\n",
    "\n",
    "\n",
    "# Convert timestamp to date\n",
    "forecast_dates = []\n",
    "for time_i in predict_period_dates:\n",
    "    forecast_dates.append(time_i.date())\n",
    "    \n",
    "df_forecast = pd.DataFrame({'Date':np.array(forecast_dates), 'Open':y_pred_future})\n",
    "df_forecast['Date']=pd.to_datetime(df_forecast['Date'])\n",
    "\n",
    "\n",
    "original = df[['Date', 'Open']]\n",
    "original['Date']=pd.to_datetime(original['Date'])\n",
    "original = original.loc[original['Date'] >= '2022-06-23']\n",
    "plt.figure(figsize=(15,9))\n",
    "#sns.lineplot(original['Date'], original['Open'])\n",
    "sns.lineplot(df_forecast['Date'], df_forecast['Open'])\n"
   ]
  },
  {
   "cell_type": "code",
   "execution_count": 390,
   "id": "611e64d1",
   "metadata": {},
   "outputs": [
    {
     "data": {
      "text/plain": [
       "array([20734.643, 20196.842], dtype=float32)"
      ]
     },
     "execution_count": 390,
     "metadata": {},
     "output_type": "execute_result"
    }
   ],
   "source": [
    "y_pred_future"
   ]
  },
  {
   "cell_type": "code",
   "execution_count": 391,
   "id": "d4107192",
   "metadata": {},
   "outputs": [
    {
     "name": "stdout",
     "output_type": "stream",
     "text": [
      "la valeur prédite du Bitecoin a la date 2022-06-24 20196.842\n"
     ]
    }
   ],
   "source": [
    "print(\"la valeur prédite du Bitecoin a la date 2022-06-24\", y_pred_future[-1])"
   ]
  },
  {
   "cell_type": "markdown",
   "id": "c147ac6a",
   "metadata": {},
   "source": [
    "# Ethereum"
   ]
  },
  {
   "cell_type": "code",
   "execution_count": 354,
   "id": "b5534999",
   "metadata": {},
   "outputs": [],
   "source": [
    "min_max_scaler = preprocessing.MinMaxScaler(feature_range=(0, 1))\n",
    "dataset = min_max_scaler.fit_transform(crypto3['Close'].values.reshape(-1, 1))"
   ]
  },
  {
   "cell_type": "code",
   "execution_count": 355,
   "id": "2dc2832c",
   "metadata": {},
   "outputs": [
    {
     "name": "stdout",
     "output_type": "stream",
     "text": [
      "1837 460\n"
     ]
    }
   ],
   "source": [
    "# split into train and test sets\n",
    "train_size = int(len(dataset) * 0.8)\n",
    "test_size = len(dataset) - train_size\n",
    "train, test = dataset[0:train_size,:], dataset[train_size:len(dataset),:]\n",
    "print(len(train), len(test))"
   ]
  },
  {
   "cell_type": "code",
   "execution_count": 356,
   "id": "410b2f1a",
   "metadata": {},
   "outputs": [],
   "source": [
    "# convert an array of values into a dataset matrix\n",
    "def create_dataset(dataset, look_back=5):\n",
    "    dataX, dataY = [], []\n",
    "    for i in range(len(dataset)-look_back-1):\n",
    "        a = dataset[i:(i+look_back), 0]\n",
    "        dataX.append(a)\n",
    "        dataY.append(dataset[i + look_back, 0])\n",
    "    return np.array(dataX), np.array(dataY)"
   ]
  },
  {
   "cell_type": "code",
   "execution_count": 357,
   "id": "b28a8a3e",
   "metadata": {},
   "outputs": [],
   "source": [
    "x_train, y_train = create_dataset(train, look_back=5)\n",
    "x_test, y_test = create_dataset(test, look_back=5)"
   ]
  },
  {
   "cell_type": "code",
   "execution_count": 358,
   "id": "a6ad2aa1",
   "metadata": {},
   "outputs": [
    {
     "name": "stdout",
     "output_type": "stream",
     "text": [
      "(1831, 5)\n",
      "(1831,)\n",
      "(454, 5)\n",
      "(454,)\n"
     ]
    }
   ],
   "source": [
    "print(x_train.shape)\n",
    "print(y_train.shape)\n",
    "print(x_test.shape)\n",
    "print(y_test.shape)"
   ]
  },
  {
   "cell_type": "code",
   "execution_count": 359,
   "id": "7c92ba31",
   "metadata": {},
   "outputs": [],
   "source": [
    "x_train = np.reshape(x_train, (x_train.shape[0], 1, x_train.shape[1]))\n",
    "x_test = np.reshape(x_test, (x_test.shape[0], 1, x_test.shape[1]))"
   ]
  },
  {
   "cell_type": "code",
   "execution_count": 360,
   "id": "0f56719d",
   "metadata": {},
   "outputs": [
    {
     "name": "stdout",
     "output_type": "stream",
     "text": [
      "(1831, 1, 5)\n",
      "(1831,)\n",
      "(454, 1, 5)\n",
      "(454,)\n"
     ]
    }
   ],
   "source": [
    "print(x_train.shape)\n",
    "print(y_train.shape)\n",
    "print(x_test.shape)\n",
    "print(y_test.shape)"
   ]
  },
  {
   "cell_type": "code",
   "execution_count": 361,
   "id": "a7a4c0a3",
   "metadata": {},
   "outputs": [
    {
     "name": "stdout",
     "output_type": "stream",
     "text": [
      "Epoch 1/20\n",
      "1831/1831 - 10s - loss: 4.0085e-04\n",
      "Epoch 2/20\n",
      "1831/1831 - 9s - loss: 8.5926e-05\n",
      "Epoch 3/20\n",
      "1831/1831 - 9s - loss: 8.1595e-05\n",
      "Epoch 4/20\n",
      "1831/1831 - 9s - loss: 7.8265e-05\n",
      "Epoch 5/20\n",
      "1831/1831 - 9s - loss: 7.4682e-05\n",
      "Epoch 6/20\n",
      "1831/1831 - 10s - loss: 6.4206e-05\n",
      "Epoch 7/20\n",
      "1831/1831 - 11s - loss: 6.0641e-05\n",
      "Epoch 8/20\n",
      "1831/1831 - 11s - loss: 5.5549e-05\n",
      "Epoch 9/20\n",
      "1831/1831 - 10s - loss: 6.2718e-05\n",
      "Epoch 10/20\n",
      "1831/1831 - 11s - loss: 5.8578e-05\n",
      "Epoch 11/20\n",
      "1831/1831 - 10s - loss: 5.3279e-05\n",
      "Epoch 12/20\n",
      "1831/1831 - 10s - loss: 5.3164e-05\n",
      "Epoch 13/20\n",
      "1831/1831 - 10s - loss: 5.4672e-05\n",
      "Epoch 14/20\n",
      "1831/1831 - 10s - loss: 5.1136e-05\n",
      "Epoch 15/20\n",
      "1831/1831 - 10s - loss: 5.1274e-05\n",
      "Epoch 16/20\n",
      "1831/1831 - 10s - loss: 5.0777e-05\n",
      "Epoch 17/20\n",
      "1831/1831 - 10s - loss: 4.9034e-05\n",
      "Epoch 18/20\n",
      "1831/1831 - 10s - loss: 4.5698e-05\n",
      "Epoch 19/20\n",
      "1831/1831 - 10s - loss: 5.2203e-05\n",
      "Epoch 20/20\n",
      "1831/1831 - 10s - loss: 4.8530e-05\n"
     ]
    },
    {
     "data": {
      "text/plain": [
       "<keras.callbacks.History at 0x1a1454f4e50>"
      ]
     },
     "execution_count": 361,
     "metadata": {},
     "output_type": "execute_result"
    }
   ],
   "source": [
    "# create and fit the LSTM network\n",
    "look_back=5\n",
    "model = Sequential()\n",
    "model.add(LSTM(20, input_shape=(1, look_back)))\n",
    "model.add(Dense(1))\n",
    "model.add(Activation('linear'))\n",
    "\n",
    "model.compile(loss='mean_squared_error', optimizer='adam')\n",
    "model.fit(x_train, y_train, epochs=20, batch_size=1, verbose=2)"
   ]
  },
  {
   "cell_type": "code",
   "execution_count": 105,
   "id": "378690bf",
   "metadata": {},
   "outputs": [
    {
     "name": "stdout",
     "output_type": "stream",
     "text": [
      "Train Score: 0.04 RMSE\n",
      "Test Score: 0.12 RMSE\n"
     ]
    }
   ],
   "source": [
    "trainPredict = model.predict(x_train)\n",
    "testPredict = model.predict(x_test)\n",
    "# invert predictions\n",
    "trainPredict = min_max_scaler.inverse_transform(trainPredict)\n",
    "trainY = min_max_scaler.inverse_transform([y_train])\n",
    "testPredict = min_max_scaler.inverse_transform(testPredict)\n",
    "testY = min_max_scaler.inverse_transform([y_test])\n",
    "# calculate root mean squared error\n",
    "trainScore = math.sqrt(mean_squared_error(trainY[0], trainPredict[:,0]))\n",
    "print('Train Score: %.2f RMSE' % (trainScore))\n",
    "testScore = math.sqrt(mean_squared_error(testY[0], testPredict[:,0]))\n",
    "print('Test Score: %.2f RMSE' % (testScore))"
   ]
  },
  {
   "cell_type": "code",
   "execution_count": 106,
   "id": "52b1194d",
   "metadata": {},
   "outputs": [
    {
     "data": {
      "image/png": "[encoded data removed]",
      "text/plain": [
       "<Figure size 432x288 with 1 Axes>"
      ]
     },
     "metadata": {
      "needs_background": "light"
     },
     "output_type": "display_data"
    }
   ],
   "source": [
    "# shift train predictions for plotting\n",
    "trainPredictPlot = np.empty_like(dataset)\n",
    "trainPredictPlot[:, :] = np.nan\n",
    "trainPredictPlot[look_back:len(trainPredict)+look_back, :] = trainPredict\n",
    "# shift test predictions for plotting\n",
    "testPredictPlot = np.empty_like(dataset)\n",
    "testPredictPlot[:, :] = np.nan\n",
    "testPredictPlot[len(trainPredict)+(look_back*2)+1:len(dataset)-1, :] = testPredict\n",
    "# plot baseline and predictions\n",
    "plt.plot(min_max_scaler.inverse_transform(dataset))\n",
    "plt.plot(trainPredictPlot)\n",
    "plt.plot(testPredictPlot)\n",
    "plt.show()"
   ]
  },
  {
   "cell_type": "code",
   "execution_count": 387,
   "id": "1c954c30",
   "metadata": {},
   "outputs": [
    {
     "name": "stdout",
     "output_type": "stream",
     "text": [
      "2695   2022-06-09\n",
      "2696   2022-06-10\n",
      "2697   2022-06-11\n",
      "2698   2022-06-12\n",
      "2699   2022-06-13\n",
      "2700   2022-06-14\n",
      "2701   2022-06-15\n",
      "2702   2022-06-16\n",
      "2703   2022-06-17\n",
      "2704   2022-06-18\n",
      "2705   2022-06-19\n",
      "2706   2022-06-20\n",
      "2707   2022-06-21\n",
      "2708   2022-06-22\n",
      "2709   2022-06-23\n",
      "Name: Date, dtype: datetime64[ns]\n",
      "trainX shape == (2296, 1, 5).\n",
      "trainY shape == (2296, 1).\n",
      "Epoch 1/5\n",
      "130/130 [==============================] - 2s 14ms/step - loss: 0.0053 - val_loss: 0.0532\n",
      "Epoch 2/5\n",
      "130/130 [==============================] - 2s 16ms/step - loss: 0.0022 - val_loss: 0.0345\n",
      "Epoch 3/5\n",
      "130/130 [==============================] - 2s 15ms/step - loss: 0.0014 - val_loss: 0.0256\n",
      "Epoch 4/5\n",
      "130/130 [==============================] - 2s 16ms/step - loss: 0.0010 - val_loss: 0.0207\n",
      "Epoch 5/5\n",
      "130/130 [==============================] - 2s 14ms/step - loss: 8.1807e-04 - val_loss: 0.0177\n",
      "[Timestamp('2022-06-23 00:00:00', freq='C'), Timestamp('2022-06-24 00:00:00', freq='C')]\n"
     ]
    },
    {
     "data": {
      "text/plain": [
       "<AxesSubplot:xlabel='Date', ylabel='Open'>"
      ]
     },
     "execution_count": 387,
     "metadata": {},
     "output_type": "execute_result"
    },
    {
     "data": {
      "image/png": "[encoded data removed]",
      "text/plain": [
       "<Figure size 1080x648 with 1 Axes>"
      ]
     },
     "metadata": {
      "needs_background": "light"
     },
     "output_type": "display_data"
    }
   ],
   "source": [
    "from sklearn.preprocessing import StandardScaler \n",
    "import seaborn as sns\n",
    "\n",
    "\n",
    "\n",
    "train_dates = pd.to_datetime(crypto1['Date'])\n",
    "print(train_dates.tail(15)) #Check last few dates. \n",
    "\n",
    "\n",
    "df = crypto3\n",
    "\n",
    "cols = list(df)[1:6]\n",
    "\n",
    "df_for_training = df[cols].astype(float)\n",
    "\n",
    "scaler = StandardScaler()\n",
    "scaler = scaler.fit(df_for_training)\n",
    "df_for_training_scaled = scaler.transform(df_for_training)\n",
    "\n",
    "\n",
    "#As required for LSTM networks, we require to reshape an input data into n_samples x timesteps x n_features. \n",
    "#In this example, the n_features is 5. We will make timesteps = 14 (past days data used for training). \n",
    "\n",
    "#Empty lists to be populated using formatted training data\n",
    "trainX = []\n",
    "trainY = []\n",
    "\n",
    "n_future = 1   # Number of days we want to look into the future based on the past days.\n",
    "n_past = 1  # Number of past days we want to use to predict the future. \n",
    "\n",
    "for i in range(n_past, len(df_for_training_scaled) - n_future +1):\n",
    "    trainX.append(df_for_training_scaled[i - n_past:i, 0:df_for_training.shape[1]])\n",
    "    trainY.append(df_for_training_scaled[i + n_future - 1:i + n_future, 0])\n",
    "\n",
    "trainX, trainY = np.array(trainX), np.array(trainY)\n",
    "\n",
    "print('trainX shape == {}.'.format(trainX.shape))\n",
    "print('trainY shape == {}.'.format(trainY.shape))\n",
    "\n",
    "history = model.fit(trainX, trainY, epochs=5, batch_size=16, validation_split=0.1, verbose=1) \n",
    "\n",
    "\n",
    "#Libraries that will help us extract only business days in the US.\n",
    "#Otherwise our dates would be wrong when we look back (or forward).  \n",
    "from pandas.tseries.holiday import USFederalHolidayCalendar\n",
    "from pandas.tseries.offsets import CustomBusinessDay\n",
    "us_bd = CustomBusinessDay(calendar=USFederalHolidayCalendar())\n",
    "\n",
    "n_days_for_prediction=2\n",
    "\n",
    "predict_period_dates = pd.date_range(list(train_dates)[-n_past], periods=n_days_for_prediction, freq=us_bd).tolist()\n",
    "print(predict_period_dates)\n",
    "\n",
    "#Make prediction\n",
    "prediction = model.predict(trainX[-n_days_for_prediction:]) #shape = (n, 1) where n is the n_days_for_prediction\n",
    "\n",
    "#Perform inverse transformation to rescale back to original range\n",
    "prediction_copies = np.repeat(prediction, df_for_training.shape[1], axis=-1)\n",
    "y_pred_future = scaler.inverse_transform(prediction_copies)[:,0]\n",
    "\n",
    "\n",
    "# Convert timestamp to date\n",
    "forecast_dates = []\n",
    "for time_i in predict_period_dates:\n",
    "    forecast_dates.append(time_i.date())\n",
    "    \n",
    "df_forecast = pd.DataFrame({'Date':np.array(forecast_dates), 'Open':y_pred_future})\n",
    "df_forecast['Date']=pd.to_datetime(df_forecast['Date'])\n",
    "\n",
    "\n",
    "original = df[['Date', 'Open']]\n",
    "original['Date']=pd.to_datetime(original['Date'])\n",
    "original = original.loc[original['Date'] >= '2022-06-23']\n",
    "plt.figure(figsize=(15,9))\n",
    "sns.lineplot(original['Date'], original['Open'])\n",
    "sns.lineplot(df_forecast['Date'], df_forecast['Open'])\n"
   ]
  },
  {
   "cell_type": "code",
   "execution_count": 388,
   "id": "e39a4573",
   "metadata": {},
   "outputs": [
    {
     "data": {
      "text/plain": [
       "array([1138.5505, 1082.1456], dtype=float32)"
      ]
     },
     "execution_count": 388,
     "metadata": {},
     "output_type": "execute_result"
    }
   ],
   "source": [
    "y_pred_future"
   ]
  },
  {
   "cell_type": "code",
   "execution_count": 374,
   "id": "f348470a",
   "metadata": {},
   "outputs": [
    {
     "name": "stdout",
     "output_type": "stream",
     "text": [
      "la valeur prédite du Ethereum a la date 2022-06-24 1084.5187\n"
     ]
    }
   ],
   "source": [
    "\n",
    "print(\"la valeur prédite du Ethereum a la date 2022-06-24\", y_pred_future[-1])"
   ]
  },
  {
   "cell_type": "markdown",
   "id": "8b0689ad",
   "metadata": {},
   "source": [
    "# Aluminuim \n"
   ]
  },
  {
   "cell_type": "code",
   "execution_count": 375,
   "id": "0d32a7a9",
   "metadata": {},
   "outputs": [],
   "source": [
    "min_max_scaler = preprocessing.MinMaxScaler(feature_range=(0, 1))\n",
    "dataset = min_max_scaler.fit_transform(commod1['Close'].values.reshape(-1, 1))"
   ]
  },
  {
   "cell_type": "code",
   "execution_count": 376,
   "id": "5c5b7ecc",
   "metadata": {},
   "outputs": [
    {
     "name": "stdout",
     "output_type": "stream",
     "text": [
      "1510 378\n"
     ]
    }
   ],
   "source": [
    "# split into train and test sets\n",
    "train_size = int(len(dataset) * 0.8)\n",
    "test_size = len(dataset) - train_size\n",
    "train, test = dataset[0:train_size,:], dataset[train_size:len(dataset),:]\n",
    "print(len(train), len(test))"
   ]
  },
  {
   "cell_type": "code",
   "execution_count": 377,
   "id": "220611ca",
   "metadata": {},
   "outputs": [],
   "source": [
    "# convert an array of values into a dataset matrix\n",
    "def create_dataset(dataset, look_back=5):\n",
    "    dataX, dataY = [], []\n",
    "    for i in range(len(dataset)-look_back-1):\n",
    "        a = dataset[i:(i+look_back), 0]\n",
    "        dataX.append(a)\n",
    "        dataY.append(dataset[i + look_back, 0])\n",
    "    return np.array(dataX), np.array(dataY)"
   ]
  },
  {
   "cell_type": "code",
   "execution_count": 378,
   "id": "7846b727",
   "metadata": {},
   "outputs": [],
   "source": [
    "x_train, y_train = create_dataset(train, look_back=5)\n",
    "x_test, y_test = create_dataset(test, look_back=5)"
   ]
  },
  {
   "cell_type": "code",
   "execution_count": 379,
   "id": "1cd7b987",
   "metadata": {},
   "outputs": [],
   "source": [
    "x_train = np.reshape(x_train, (x_train.shape[0], 1, x_train.shape[1]))\n",
    "x_test = np.reshape(x_test, (x_test.shape[0], 1, x_test.shape[1]))"
   ]
  },
  {
   "cell_type": "code",
   "execution_count": 380,
   "id": "8e176bf1",
   "metadata": {},
   "outputs": [
    {
     "name": "stdout",
     "output_type": "stream",
     "text": [
      "Epoch 1/20\n",
      "1504/1504 - 9s - loss: 0.0015\n",
      "Epoch 2/20\n",
      "1504/1504 - 7s - loss: 1.7612e-04\n",
      "Epoch 3/20\n",
      "1504/1504 - 8s - loss: 1.5633e-04\n",
      "Epoch 4/20\n",
      "1504/1504 - 8s - loss: 1.3281e-04\n",
      "Epoch 5/20\n",
      "1504/1504 - 8s - loss: 1.2209e-04\n",
      "Epoch 6/20\n",
      "1504/1504 - 8s - loss: 1.0918e-04\n",
      "Epoch 7/20\n",
      "1504/1504 - 8s - loss: 1.0948e-04\n",
      "Epoch 8/20\n",
      "1504/1504 - 8s - loss: 1.0793e-04\n",
      "Epoch 9/20\n",
      "1504/1504 - 8s - loss: 1.0214e-04\n",
      "Epoch 10/20\n",
      "1504/1504 - 8s - loss: 1.0129e-04\n",
      "Epoch 11/20\n",
      "1504/1504 - 8s - loss: 9.7622e-05\n",
      "Epoch 12/20\n",
      "1504/1504 - 8s - loss: 1.0126e-04\n",
      "Epoch 13/20\n",
      "1504/1504 - 8s - loss: 1.0194e-04\n",
      "Epoch 14/20\n",
      "1504/1504 - 8s - loss: 1.0218e-04\n",
      "Epoch 15/20\n",
      "1504/1504 - 10s - loss: 9.9344e-05\n",
      "Epoch 16/20\n",
      "1504/1504 - 8s - loss: 9.7145e-05\n",
      "Epoch 17/20\n",
      "1504/1504 - 9s - loss: 9.8341e-05\n",
      "Epoch 18/20\n",
      "1504/1504 - 8s - loss: 9.3717e-05\n",
      "Epoch 19/20\n",
      "1504/1504 - 9s - loss: 9.6145e-05\n",
      "Epoch 20/20\n",
      "1504/1504 - 8s - loss: 1.0143e-04\n"
     ]
    },
    {
     "data": {
      "text/plain": [
       "<keras.callbacks.History at 0x1a148abbd30>"
      ]
     },
     "execution_count": 380,
     "metadata": {},
     "output_type": "execute_result"
    }
   ],
   "source": [
    "# create and fit the LSTM network\n",
    "look_back=5\n",
    "model = Sequential()\n",
    "model.add(LSTM(20, input_shape=(1, look_back)))\n",
    "model.add(Dense(1))\n",
    "model.add(Activation('linear'))\n",
    "\n",
    "model.compile(loss='mean_squared_error', optimizer='adam')\n",
    "model.fit(x_train, y_train, epochs=20, batch_size=1, verbose=2)"
   ]
  },
  {
   "cell_type": "code",
   "execution_count": 381,
   "id": "bf8a6b1f",
   "metadata": {},
   "outputs": [
    {
     "name": "stdout",
     "output_type": "stream",
     "text": [
      "Train Score: 23.98 RMSE\n",
      "Test Score: 58.67 RMSE\n"
     ]
    }
   ],
   "source": [
    "trainPredict = model.predict(x_train)\n",
    "testPredict = model.predict(x_test)\n",
    "# invert predictions\n",
    "trainPredict = min_max_scaler.inverse_transform(trainPredict)\n",
    "trainY = min_max_scaler.inverse_transform([y_train])\n",
    "testPredict = min_max_scaler.inverse_transform(testPredict)\n",
    "testY = min_max_scaler.inverse_transform([y_test])\n",
    "# calculate root mean squared error\n",
    "trainScore = math.sqrt(mean_squared_error(trainY[0], trainPredict[:,0]))\n",
    "print('Train Score: %.2f RMSE' % (trainScore))\n",
    "testScore = math.sqrt(mean_squared_error(testY[0], testPredict[:,0]))\n",
    "print('Test Score: %.2f RMSE' % (testScore))"
   ]
  },
  {
   "cell_type": "code",
   "execution_count": 382,
   "id": "8024b456",
   "metadata": {},
   "outputs": [
    {
     "data": {
      "image/png": "[encoded data removed]",
      "text/plain": [
       "<Figure size 432x288 with 1 Axes>"
      ]
     },
     "metadata": {
      "needs_background": "light"
     },
     "output_type": "display_data"
    }
   ],
   "source": [
    "# shift train predictions for plotting\n",
    "trainPredictPlot = np.empty_like(dataset)\n",
    "trainPredictPlot[:, :] = np.nan\n",
    "trainPredictPlot[look_back:len(trainPredict)+look_back, :] = trainPredict\n",
    "# shift test predictions for plotting\n",
    "testPredictPlot = np.empty_like(dataset)\n",
    "testPredictPlot[:, :] = np.nan\n",
    "testPredictPlot[len(trainPredict)+(look_back*2)+1:len(dataset)-1, :] = testPredict\n",
    "# plot baseline and predictions\n",
    "plt.plot(min_max_scaler.inverse_transform(dataset))\n",
    "plt.plot(trainPredictPlot)\n",
    "plt.plot(testPredictPlot)\n",
    "plt.show()"
   ]
  },
  {
   "cell_type": "code",
   "execution_count": 384,
   "id": "5b06c088",
   "metadata": {},
   "outputs": [
    {
     "name": "stdout",
     "output_type": "stream",
     "text": [
      "2695   2022-06-09\n",
      "2696   2022-06-10\n",
      "2697   2022-06-11\n",
      "2698   2022-06-12\n",
      "2699   2022-06-13\n",
      "2700   2022-06-14\n",
      "2701   2022-06-15\n",
      "2702   2022-06-16\n",
      "2703   2022-06-17\n",
      "2704   2022-06-18\n",
      "2705   2022-06-19\n",
      "2706   2022-06-20\n",
      "2707   2022-06-21\n",
      "2708   2022-06-22\n",
      "2709   2022-06-23\n",
      "Name: Date, dtype: datetime64[ns]\n",
      "trainX shape == (1887, 1, 5).\n",
      "trainY shape == (1887, 1).\n",
      "Epoch 1/5\n",
      "107/107 [==============================] - 3s 17ms/step - loss: 0.0586 - val_loss: 0.4424\n",
      "Epoch 2/5\n",
      "107/107 [==============================] - ETA: 0s - loss: 0.007 - 2s 14ms/step - loss: 0.0079 - val_loss: 0.4764\n",
      "Epoch 3/5\n",
      "107/107 [==============================] - 2s 15ms/step - loss: 0.0056 - val_loss: 0.4680\n",
      "Epoch 4/5\n",
      "107/107 [==============================] - 2s 15ms/step - loss: 0.0048 - val_loss: 0.4427\n",
      "Epoch 5/5\n",
      "107/107 [==============================] - 1s 14ms/step - loss: 0.0043 - val_loss: 0.4084\n",
      "[Timestamp('2022-06-23 00:00:00', freq='C'), Timestamp('2022-06-24 00:00:00', freq='C')]\n"
     ]
    },
    {
     "data": {
      "text/plain": [
       "<AxesSubplot:xlabel='Date', ylabel='Open'>"
      ]
     },
     "execution_count": 384,
     "metadata": {},
     "output_type": "execute_result"
    },
    {
     "data": {
      "image/png": "[encoded data removed]",
      "text/plain": [
       "<Figure size 1080x648 with 1 Axes>"
      ]
     },
     "metadata": {
      "needs_background": "light"
     },
     "output_type": "display_data"
    }
   ],
   "source": [
    "from sklearn.preprocessing import StandardScaler \n",
    "import seaborn as sns\n",
    "\n",
    "\n",
    "\n",
    "train_dates = pd.to_datetime(crypto1['Date'])\n",
    "print(train_dates.tail(15)) #Check last few dates. \n",
    "\n",
    "\n",
    "df = commod1\n",
    "\n",
    "cols = list(df)[1:6]\n",
    "\n",
    "df_for_training = df[cols].astype(float)\n",
    "\n",
    "scaler = StandardScaler()\n",
    "scaler = scaler.fit(df_for_training)\n",
    "df_for_training_scaled = scaler.transform(df_for_training)\n",
    "\n",
    "\n",
    "#As required for LSTM networks, we require to reshape an input data into n_samples x timesteps x n_features. \n",
    "#In this example, the n_features is 5. We will make timesteps = 14 (past days data used for training). \n",
    "\n",
    "#Empty lists to be populated using formatted training data\n",
    "trainX = []\n",
    "trainY = []\n",
    "\n",
    "n_future = 1   # Number of days we want to look into the future based on the past days.\n",
    "n_past = 1  # Number of past days we want to use to predict the future. \n",
    "\n",
    "for i in range(n_past, len(df_for_training_scaled) - n_future +1):\n",
    "    trainX.append(df_for_training_scaled[i - n_past:i, 0:df_for_training.shape[1]])\n",
    "    trainY.append(df_for_training_scaled[i + n_future - 1:i + n_future, 0])\n",
    "\n",
    "trainX, trainY = np.array(trainX), np.array(trainY)\n",
    "\n",
    "print('trainX shape == {}.'.format(trainX.shape))\n",
    "print('trainY shape == {}.'.format(trainY.shape))\n",
    "\n",
    "history = model.fit(trainX, trainY, epochs=5, batch_size=16, validation_split=0.1, verbose=1) \n",
    "\n",
    "\n",
    "#Libraries that will help us extract only business days in the US.\n",
    "#Otherwise our dates would be wrong when we look back (or forward).  \n",
    "from pandas.tseries.holiday import USFederalHolidayCalendar\n",
    "from pandas.tseries.offsets import CustomBusinessDay\n",
    "us_bd = CustomBusinessDay(calendar=USFederalHolidayCalendar())\n",
    "\n",
    "n_days_for_prediction=2\n",
    "\n",
    "predict_period_dates = pd.date_range(list(train_dates)[-n_past], periods=n_days_for_prediction, freq=us_bd).tolist()\n",
    "print(predict_period_dates)\n",
    "\n",
    "#Make prediction\n",
    "prediction = model.predict(trainX[-n_days_for_prediction:]) #shape = (n, 1) where n is the n_days_for_prediction\n",
    "\n",
    "#Perform inverse transformation to rescale back to original range\n",
    "prediction_copies = np.repeat(prediction, df_for_training.shape[1], axis=-1)\n",
    "y_pred_future = scaler.inverse_transform(prediction_copies)[:,0]\n",
    "\n",
    "\n",
    "# Convert timestamp to date\n",
    "forecast_dates = []\n",
    "for time_i in predict_period_dates:\n",
    "    forecast_dates.append(time_i.date())\n",
    "    \n",
    "df_forecast = pd.DataFrame({'Date':np.array(forecast_dates), 'Open':y_pred_future})\n",
    "df_forecast['Date']=pd.to_datetime(df_forecast['Date'])\n",
    "\n",
    "\n",
    "original = df[['Date', 'Open']]\n",
    "original['Date']=pd.to_datetime(original['Date'])\n",
    "original = original.loc[original['Date'] >= '2022-06-23']\n",
    "plt.figure(figsize=(15,9))\n",
    "sns.lineplot(original['Date'], original['Open'])\n",
    "sns.lineplot(df_forecast['Date'], df_forecast['Open'])\n"
   ]
  },
  {
   "cell_type": "code",
   "execution_count": 386,
   "id": "54ec9d73",
   "metadata": {},
   "outputs": [
    {
     "data": {
      "text/plain": [
       "2544.9033"
      ]
     },
     "execution_count": 386,
     "metadata": {},
     "output_type": "execute_result"
    }
   ],
   "source": [
    "y_pred_future[-1]#la valeur prédite au date 24-06-2022"
   ]
  },
  {
   "cell_type": "markdown",
   "id": "08714f04",
   "metadata": {},
   "source": [
    "# Carbon Emissions"
   ]
  },
  {
   "cell_type": "code",
   "execution_count": 395,
   "id": "d3da3c0c",
   "metadata": {},
   "outputs": [
    {
     "name": "stdout",
     "output_type": "stream",
     "text": [
      "1537 385\n",
      "Epoch 1/20\n",
      "1531/1531 - 11s - loss: 4.4966e-04\n",
      "Epoch 2/20\n",
      "1531/1531 - 8s - loss: 6.6105e-05\n",
      "Epoch 3/20\n",
      "1531/1531 - 8s - loss: 6.6239e-05\n",
      "Epoch 4/20\n",
      "1531/1531 - 8s - loss: 5.7960e-05\n",
      "Epoch 5/20\n",
      "1531/1531 - 8s - loss: 5.7444e-05\n",
      "Epoch 6/20\n",
      "1531/1531 - 8s - loss: 5.6361e-05\n",
      "Epoch 7/20\n",
      "1531/1531 - 8s - loss: 4.8497e-05\n",
      "Epoch 8/20\n",
      "1531/1531 - 8s - loss: 4.6200e-05\n",
      "Epoch 9/20\n",
      "1531/1531 - 8s - loss: 4.6269e-05\n",
      "Epoch 10/20\n",
      "1531/1531 - 8s - loss: 4.8076e-05\n",
      "Epoch 11/20\n",
      "1531/1531 - 8s - loss: 4.3957e-05\n",
      "Epoch 12/20\n",
      "1531/1531 - 8s - loss: 4.5198e-05\n",
      "Epoch 13/20\n",
      "1531/1531 - 8s - loss: 4.3583e-05\n",
      "Epoch 14/20\n",
      "1531/1531 - 8s - loss: 4.1075e-05\n",
      "Epoch 15/20\n",
      "1531/1531 - 8s - loss: 4.1439e-05\n",
      "Epoch 16/20\n",
      "1531/1531 - 8s - loss: 4.1718e-05\n",
      "Epoch 17/20\n",
      "1531/1531 - 8s - loss: 4.1360e-05\n",
      "Epoch 18/20\n",
      "1531/1531 - 8s - loss: 3.9384e-05\n",
      "Epoch 19/20\n",
      "1531/1531 - 8s - loss: 4.0240e-05\n",
      "Epoch 20/20\n",
      "1531/1531 - 8s - loss: 4.1846e-05\n",
      "Train Score: 0.51 RMSE\n",
      "Test Score: 7.45 RMSE\n"
     ]
    },
    {
     "data": {
      "image/png": "[encoded data removed]",
      "text/plain": [
       "<Figure size 432x288 with 1 Axes>"
      ]
     },
     "metadata": {
      "needs_background": "light"
     },
     "output_type": "display_data"
    }
   ],
   "source": [
    "min_max_scaler = preprocessing.MinMaxScaler(feature_range=(0, 1))\n",
    "dataset = min_max_scaler.fit_transform(commod3['Close'].values.reshape(-1, 1))\n",
    "\n",
    "# split into train and test sets\n",
    "train_size = int(len(dataset) * 0.8)\n",
    "test_size = len(dataset) - train_size\n",
    "train, test = dataset[0:train_size,:], dataset[train_size:len(dataset),:]\n",
    "print(len(train), len(test))\n",
    "\n",
    "# convert an array of values into a dataset matrix\n",
    "def create_dataset(dataset, look_back=5):\n",
    "    dataX, dataY = [], []\n",
    "    for i in range(len(dataset)-look_back-1):\n",
    "        a = dataset[i:(i+look_back), 0]\n",
    "        dataX.append(a)\n",
    "        dataY.append(dataset[i + look_back, 0])\n",
    "    return np.array(dataX), np.array(dataY)\n",
    "\n",
    "\n",
    "x_train, y_train = create_dataset(train, look_back=5)\n",
    "x_test, y_test = create_dataset(test, look_back=5) \n",
    "\n",
    "x_train = np.reshape(x_train, (x_train.shape[0], 1, x_train.shape[1]))\n",
    "x_test = np.reshape(x_test, (x_test.shape[0], 1, x_test.shape[1])) \n",
    "\n",
    "\n",
    "# create and fit the LSTM network\n",
    "look_back=5\n",
    "model = Sequential()\n",
    "model.add(LSTM(20, input_shape=(1, look_back)))\n",
    "model.add(Dense(1))\n",
    "model.add(Activation('linear'))\n",
    "\n",
    "model.compile(loss='mean_squared_error', optimizer='adam')\n",
    "model.fit(x_train, y_train, epochs=20, batch_size=1, verbose=2) \n",
    "\n",
    "trainPredict = model.predict(x_train)\n",
    "testPredict = model.predict(x_test)\n",
    "# invert predictions\n",
    "trainPredict = min_max_scaler.inverse_transform(trainPredict)\n",
    "trainY = min_max_scaler.inverse_transform([y_train])\n",
    "testPredict = min_max_scaler.inverse_transform(testPredict)\n",
    "testY = min_max_scaler.inverse_transform([y_test])\n",
    "# calculate root mean squared error\n",
    "trainScore = math.sqrt(mean_squared_error(trainY[0], trainPredict[:,0]))\n",
    "print('Train Score: %.2f RMSE' % (trainScore))\n",
    "testScore = math.sqrt(mean_squared_error(testY[0], testPredict[:,0]))\n",
    "print('Test Score: %.2f RMSE' % (testScore)) \n",
    "\n",
    "# shift train predictions for plotting\n",
    "trainPredictPlot = np.empty_like(dataset)\n",
    "trainPredictPlot[:, :] = np.nan\n",
    "trainPredictPlot[look_back:len(trainPredict)+look_back, :] = trainPredict\n",
    "# shift test predictions for plotting\n",
    "testPredictPlot = np.empty_like(dataset)\n",
    "testPredictPlot[:, :] = np.nan\n",
    "testPredictPlot[len(trainPredict)+(look_back*2)+1:len(dataset)-1, :] = testPredict\n",
    "# plot baseline and predictions\n",
    "plt.plot(min_max_scaler.inverse_transform(dataset))\n",
    "plt.plot(trainPredictPlot)\n",
    "plt.plot(testPredictPlot)\n",
    "plt.show()"
   ]
  },
  {
   "cell_type": "code",
   "execution_count": 396,
   "id": "cde9418b",
   "metadata": {},
   "outputs": [
    {
     "name": "stdout",
     "output_type": "stream",
     "text": [
      "2695   2022-06-09\n",
      "2696   2022-06-10\n",
      "2697   2022-06-11\n",
      "2698   2022-06-12\n",
      "2699   2022-06-13\n",
      "2700   2022-06-14\n",
      "2701   2022-06-15\n",
      "2702   2022-06-16\n",
      "2703   2022-06-17\n",
      "2704   2022-06-18\n",
      "2705   2022-06-19\n",
      "2706   2022-06-20\n",
      "2707   2022-06-21\n",
      "2708   2022-06-22\n",
      "2709   2022-06-23\n",
      "Name: Date, dtype: datetime64[ns]\n",
      "trainX shape == (1921, 1, 5).\n",
      "trainY shape == (1921, 1).\n",
      "Epoch 1/5\n",
      "108/108 [==============================] - 2s 10ms/step - loss: 0.0481 - val_loss: 0.1662\n",
      "Epoch 2/5\n",
      "108/108 [==============================] - 1s 7ms/step - loss: 0.0028 - val_loss: 0.1359\n",
      "Epoch 3/5\n",
      "108/108 [==============================] - 1s 7ms/step - loss: 0.0019 - val_loss: 0.1270\n",
      "Epoch 4/5\n",
      "108/108 [==============================] - 1s 7ms/step - loss: 0.0014 - val_loss: 0.0941\n",
      "Epoch 5/5\n",
      "108/108 [==============================] - 1s 7ms/step - loss: 0.0011 - val_loss: 0.1030\n",
      "[Timestamp('2022-06-23 00:00:00', freq='C'), Timestamp('2022-06-24 00:00:00', freq='C')]\n"
     ]
    },
    {
     "data": {
      "text/plain": [
       "<AxesSubplot:xlabel='Date', ylabel='Close'>"
      ]
     },
     "execution_count": 396,
     "metadata": {},
     "output_type": "execute_result"
    },
    {
     "data": {
      "image/png": "[encoded data removed]",
      "text/plain": [
       "<Figure size 1080x648 with 1 Axes>"
      ]
     },
     "metadata": {
      "needs_background": "light"
     },
     "output_type": "display_data"
    }
   ],
   "source": [
    "from sklearn.preprocessing import StandardScaler \n",
    "import seaborn as sns\n",
    "\n",
    "\n",
    "\n",
    "train_dates = pd.to_datetime(crypto1['Date'])\n",
    "print(train_dates.tail(15)) #Check last few dates. \n",
    "\n",
    "\n",
    "df = commod3\n",
    "\n",
    "cols = list(df)[1:6]\n",
    "\n",
    "df_for_training = df[cols].astype(float)\n",
    "\n",
    "scaler = StandardScaler()\n",
    "scaler = scaler.fit(df_for_training)\n",
    "df_for_training_scaled = scaler.transform(df_for_training)\n",
    "\n",
    "\n",
    "#As required for LSTM networks, we require to reshape an input data into n_samples x timesteps x n_features. \n",
    "#In this example, the n_features is 5. We will make timesteps = 14 (past days data used for training). \n",
    "\n",
    "#Empty lists to be populated using formatted training data\n",
    "trainX = []\n",
    "trainY = []\n",
    "\n",
    "n_future = 1   # Number of days we want to look into the future based on the past days.\n",
    "n_past = 1  # Number of past days we want to use to predict the future. \n",
    "\n",
    "for i in range(n_past, len(df_for_training_scaled) - n_future +1):\n",
    "    trainX.append(df_for_training_scaled[i - n_past:i, 0:df_for_training.shape[1]])\n",
    "    trainY.append(df_for_training_scaled[i + n_future - 1:i + n_future, 0])\n",
    "\n",
    "trainX, trainY = np.array(trainX), np.array(trainY)\n",
    "\n",
    "print('trainX shape == {}.'.format(trainX.shape))\n",
    "print('trainY shape == {}.'.format(trainY.shape))\n",
    "\n",
    "history = model.fit(trainX, trainY, epochs=5, batch_size=16, validation_split=0.1, verbose=1) \n",
    "\n",
    "\n",
    "#Libraries that will help us extract only business days in the US.\n",
    "#Otherwise our dates would be wrong when we look back (or forward).  \n",
    "from pandas.tseries.holiday import USFederalHolidayCalendar\n",
    "from pandas.tseries.offsets import CustomBusinessDay\n",
    "us_bd = CustomBusinessDay(calendar=USFederalHolidayCalendar())\n",
    "\n",
    "n_days_for_prediction=2\n",
    "\n",
    "predict_period_dates = pd.date_range(list(train_dates)[-n_past], periods=n_days_for_prediction, freq=us_bd).tolist()\n",
    "print(predict_period_dates)\n",
    "\n",
    "#Make prediction\n",
    "prediction = model.predict(trainX[-n_days_for_prediction:]) #shape = (n, 1) where n is the n_days_for_prediction\n",
    "\n",
    "#Perform inverse transformation to rescale back to original range\n",
    "prediction_copies = np.repeat(prediction, df_for_training.shape[1], axis=-1)\n",
    "y_pred_future = scaler.inverse_transform(prediction_copies)[:,0]\n",
    "\n",
    "\n",
    "# Convert timestamp to date\n",
    "forecast_dates = []\n",
    "for time_i in predict_period_dates:\n",
    "    forecast_dates.append(time_i.date())\n",
    "    \n",
    "df_forecast = pd.DataFrame({'Date':np.array(forecast_dates), 'Close':y_pred_future})\n",
    "df_forecast['Date']=pd.to_datetime(df_forecast['Date'])\n",
    "\n",
    "\n",
    "original = df[['Date', 'Close']]\n",
    "original['Date']=pd.to_datetime(original['Date'])\n",
    "original = original.loc[original['Date'] >= '2022-06-23']\n",
    "plt.figure(figsize=(15,9))\n",
    "sns.lineplot(original['Date'], original['Close'])\n",
    "sns.lineplot(df_forecast['Date'], df_forecast['Close'])\n"
   ]
  },
  {
   "cell_type": "code",
   "execution_count": 398,
   "id": "9368051f",
   "metadata": {},
   "outputs": [
    {
     "data": {
      "text/plain": [
       "75.85062"
      ]
     },
     "execution_count": 398,
     "metadata": {},
     "output_type": "execute_result"
    }
   ],
   "source": [
    "y_pred_future[-1]#la valeur prédite au date 24-06-2022"
   ]
  },
  {
   "cell_type": "markdown",
   "id": "d3a3165e",
   "metadata": {},
   "source": [
    "# Brent Oil"
   ]
  },
  {
   "cell_type": "code",
   "execution_count": 399,
   "id": "c2dee728",
   "metadata": {},
   "outputs": [
    {
     "name": "stdout",
     "output_type": "stream",
     "text": [
      "1545 387\n",
      "Epoch 1/20\n",
      "1539/1539 - 9s - loss: 0.0028\n",
      "Epoch 2/20\n",
      "1539/1539 - 7s - loss: 3.0101e-04\n",
      "Epoch 3/20\n",
      "1539/1539 - 8s - loss: 2.7372e-04\n",
      "Epoch 4/20\n",
      "1539/1539 - 8s - loss: 2.6390e-04\n",
      "Epoch 5/20\n",
      "1539/1539 - 8s - loss: 2.3183e-04\n",
      "Epoch 6/20\n",
      "1539/1539 - 7s - loss: 2.2498e-04\n",
      "Epoch 7/20\n",
      "1539/1539 - 8s - loss: 2.0759e-04\n",
      "Epoch 8/20\n",
      "1539/1539 - 7s - loss: 2.0408e-04\n",
      "Epoch 9/20\n",
      "1539/1539 - 8s - loss: 2.0437e-04\n",
      "Epoch 10/20\n",
      "1539/1539 - 8s - loss: 2.0319e-04\n",
      "Epoch 11/20\n",
      "1539/1539 - 8s - loss: 1.8896e-04\n",
      "Epoch 12/20\n",
      "1539/1539 - 8s - loss: 1.8557e-04\n",
      "Epoch 13/20\n",
      "1539/1539 - 8s - loss: 1.8585e-04\n",
      "Epoch 14/20\n",
      "1539/1539 - 8s - loss: 1.8383e-04\n",
      "Epoch 15/20\n",
      "1539/1539 - 8s - loss: 1.8280e-04\n",
      "Epoch 16/20\n",
      "1539/1539 - 8s - loss: 1.8601e-04\n",
      "Epoch 17/20\n",
      "1539/1539 - 9s - loss: 1.8188e-04\n",
      "Epoch 18/20\n",
      "1539/1539 - 8s - loss: 1.7768e-04\n",
      "Epoch 19/20\n",
      "1539/1539 - 9s - loss: 1.8008e-04\n",
      "Epoch 20/20\n",
      "1539/1539 - 8s - loss: 1.7387e-04\n",
      "Train Score: 1.38 RMSE\n",
      "Test Score: 3.23 RMSE\n"
     ]
    },
    {
     "data": {
      "image/png": "[encoded data removed]",
      "text/plain": [
       "<Figure size 432x288 with 1 Axes>"
      ]
     },
     "metadata": {
      "needs_background": "light"
     },
     "output_type": "display_data"
    }
   ],
   "source": [
    "min_max_scaler = preprocessing.MinMaxScaler(feature_range=(0, 1))\n",
    "dataset = min_max_scaler.fit_transform(commod2['Close'].values.reshape(-1, 1))\n",
    "\n",
    "# split into train and test sets\n",
    "train_size = int(len(dataset) * 0.8)\n",
    "test_size = len(dataset) - train_size\n",
    "train, test = dataset[0:train_size,:], dataset[train_size:len(dataset),:]\n",
    "print(len(train), len(test))\n",
    "\n",
    "# convert an array of values into a dataset matrix\n",
    "def create_dataset(dataset, look_back=5):\n",
    "    dataX, dataY = [], []\n",
    "    for i in range(len(dataset)-look_back-1):\n",
    "        a = dataset[i:(i+look_back), 0]\n",
    "        dataX.append(a)\n",
    "        dataY.append(dataset[i + look_back, 0])\n",
    "    return np.array(dataX), np.array(dataY)\n",
    "\n",
    "\n",
    "x_train, y_train = create_dataset(train, look_back=5)\n",
    "x_test, y_test = create_dataset(test, look_back=5) \n",
    "\n",
    "x_train = np.reshape(x_train, (x_train.shape[0], 1, x_train.shape[1]))\n",
    "x_test = np.reshape(x_test, (x_test.shape[0], 1, x_test.shape[1])) \n",
    "\n",
    "\n",
    "# create and fit the LSTM network\n",
    "look_back=5\n",
    "model = Sequential()\n",
    "model.add(LSTM(20, input_shape=(1, look_back)))\n",
    "model.add(Dense(1))\n",
    "model.add(Activation('linear'))\n",
    "\n",
    "model.compile(loss='mean_squared_error', optimizer='adam')\n",
    "model.fit(x_train, y_train, epochs=20, batch_size=1, verbose=2) \n",
    "\n",
    "trainPredict = model.predict(x_train)\n",
    "testPredict = model.predict(x_test)\n",
    "# invert predictions\n",
    "trainPredict = min_max_scaler.inverse_transform(trainPredict)\n",
    "trainY = min_max_scaler.inverse_transform([y_train])\n",
    "testPredict = min_max_scaler.inverse_transform(testPredict)\n",
    "testY = min_max_scaler.inverse_transform([y_test])\n",
    "# calculate root mean squared error\n",
    "trainScore = math.sqrt(mean_squared_error(trainY[0], trainPredict[:,0]))\n",
    "print('Train Score: %.2f RMSE' % (trainScore))\n",
    "testScore = math.sqrt(mean_squared_error(testY[0], testPredict[:,0]))\n",
    "print('Test Score: %.2f RMSE' % (testScore)) \n",
    "\n",
    "# shift train predictions for plotting\n",
    "trainPredictPlot = np.empty_like(dataset)\n",
    "trainPredictPlot[:, :] = np.nan\n",
    "trainPredictPlot[look_back:len(trainPredict)+look_back, :] = trainPredict\n",
    "# shift test predictions for plotting\n",
    "testPredictPlot = np.empty_like(dataset)\n",
    "testPredictPlot[:, :] = np.nan\n",
    "testPredictPlot[len(trainPredict)+(look_back*2)+1:len(dataset)-1, :] = testPredict\n",
    "# plot baseline and predictions\n",
    "plt.plot(min_max_scaler.inverse_transform(dataset))\n",
    "plt.plot(trainPredictPlot)\n",
    "plt.plot(testPredictPlot)\n",
    "plt.show()"
   ]
  },
  {
   "cell_type": "code",
   "execution_count": 400,
   "id": "102ce75a",
   "metadata": {},
   "outputs": [
    {
     "name": "stdout",
     "output_type": "stream",
     "text": [
      "2695   2022-06-09\n",
      "2696   2022-06-10\n",
      "2697   2022-06-11\n",
      "2698   2022-06-12\n",
      "2699   2022-06-13\n",
      "2700   2022-06-14\n",
      "2701   2022-06-15\n",
      "2702   2022-06-16\n",
      "2703   2022-06-17\n",
      "2704   2022-06-18\n",
      "2705   2022-06-19\n",
      "2706   2022-06-20\n",
      "2707   2022-06-21\n",
      "2708   2022-06-22\n",
      "2709   2022-06-23\n",
      "Name: Date, dtype: datetime64[ns]\n",
      "trainX shape == (1931, 1, 5).\n",
      "trainY shape == (1931, 1).\n",
      "Epoch 1/5\n",
      "109/109 [==============================] - 3s 17ms/step - loss: 0.1149 - val_loss: 2.3053\n",
      "Epoch 2/5\n",
      "109/109 [==============================] - 2s 14ms/step - loss: 0.0126 - val_loss: 1.8369\n",
      "Epoch 3/5\n",
      "109/109 [==============================] - 2s 14ms/step - loss: 0.0068 - val_loss: 1.6760\n",
      "Epoch 4/5\n",
      "109/109 [==============================] - 1s 13ms/step - loss: 0.0042 - val_loss: 1.5218\n",
      "Epoch 5/5\n",
      "109/109 [==============================] - 2s 14ms/step - loss: 0.0030 - val_loss: 1.3827\n",
      "[Timestamp('2022-06-23 00:00:00', freq='C'), Timestamp('2022-06-24 00:00:00', freq='C')]\n"
     ]
    },
    {
     "data": {
      "text/plain": [
       "<AxesSubplot:xlabel='Date', ylabel='Close'>"
      ]
     },
     "execution_count": 400,
     "metadata": {},
     "output_type": "execute_result"
    },
    {
     "data": {
      "image/png": "[encoded data removed]",
      "text/plain": [
       "<Figure size 1080x648 with 1 Axes>"
      ]
     },
     "metadata": {
      "needs_background": "light"
     },
     "output_type": "display_data"
    }
   ],
   "source": [
    "from sklearn.preprocessing import StandardScaler \n",
    "import seaborn as sns\n",
    "\n",
    "\n",
    "\n",
    "train_dates = pd.to_datetime(crypto1['Date'])\n",
    "print(train_dates.tail(15)) #Check last few dates. \n",
    "\n",
    "\n",
    "df = commod2\n",
    "\n",
    "cols = list(df)[1:6]\n",
    "\n",
    "df_for_training = df[cols].astype(float)\n",
    "\n",
    "scaler = StandardScaler()\n",
    "scaler = scaler.fit(df_for_training)\n",
    "df_for_training_scaled = scaler.transform(df_for_training)\n",
    "\n",
    "\n",
    "#As required for LSTM networks, we require to reshape an input data into n_samples x timesteps x n_features. \n",
    "#In this example, the n_features is 5. We will make timesteps = 14 (past days data used for training). \n",
    "\n",
    "#Empty lists to be populated using formatted training data\n",
    "trainX = []\n",
    "trainY = []\n",
    "\n",
    "n_future = 1   # Number of days we want to look into the future based on the past days.\n",
    "n_past = 1  # Number of past days we want to use to predict the future. \n",
    "\n",
    "for i in range(n_past, len(df_for_training_scaled) - n_future +1):\n",
    "    trainX.append(df_for_training_scaled[i - n_past:i, 0:df_for_training.shape[1]])\n",
    "    trainY.append(df_for_training_scaled[i + n_future - 1:i + n_future, 0])\n",
    "\n",
    "trainX, trainY = np.array(trainX), np.array(trainY)\n",
    "\n",
    "print('trainX shape == {}.'.format(trainX.shape))\n",
    "print('trainY shape == {}.'.format(trainY.shape))\n",
    "\n",
    "history = model.fit(trainX, trainY, epochs=5, batch_size=16, validation_split=0.1, verbose=1) \n",
    "\n",
    "\n",
    "#Libraries that will help us extract only business days in the US.\n",
    "#Otherwise our dates would be wrong when we look back (or forward).  \n",
    "from pandas.tseries.holiday import USFederalHolidayCalendar\n",
    "from pandas.tseries.offsets import CustomBusinessDay\n",
    "us_bd = CustomBusinessDay(calendar=USFederalHolidayCalendar())\n",
    "\n",
    "n_days_for_prediction=2\n",
    "\n",
    "predict_period_dates = pd.date_range(list(train_dates)[-n_past], periods=n_days_for_prediction, freq=us_bd).tolist()\n",
    "print(predict_period_dates)\n",
    "\n",
    "#Make prediction\n",
    "prediction = model.predict(trainX[-n_days_for_prediction:]) #shape = (n, 1) where n is the n_days_for_prediction\n",
    "\n",
    "#Perform inverse transformation to rescale back to original range\n",
    "prediction_copies = np.repeat(prediction, df_for_training.shape[1], axis=-1)\n",
    "y_pred_future = scaler.inverse_transform(prediction_copies)[:,0]\n",
    "\n",
    "\n",
    "# Convert timestamp to date\n",
    "forecast_dates = []\n",
    "for time_i in predict_period_dates:\n",
    "    forecast_dates.append(time_i.date())\n",
    "    \n",
    "df_forecast = pd.DataFrame({'Date':np.array(forecast_dates), 'Close':y_pred_future})\n",
    "df_forecast['Date']=pd.to_datetime(df_forecast['Date'])\n",
    "\n",
    "\n",
    "original = df[['Date', 'Close']]\n",
    "original['Date']=pd.to_datetime(original['Date'])\n",
    "original = original.loc[original['Date'] >= '2022-06-23']\n",
    "plt.figure(figsize=(15,9))\n",
    "sns.lineplot(original['Date'], original['Close'])\n",
    "sns.lineplot(df_forecast['Date'], df_forecast['Close'])\n"
   ]
  },
  {
   "cell_type": "code",
   "execution_count": 402,
   "id": "cfc9f697",
   "metadata": {},
   "outputs": [
    {
     "data": {
      "text/plain": [
       "82.56139"
      ]
     },
     "execution_count": 402,
     "metadata": {},
     "output_type": "execute_result"
    }
   ],
   "source": [
    "y_pred_future[-1]#la valeur prédite au date 24-06-2022"
   ]
  },
  {
   "cell_type": "markdown",
   "id": "139fdf21",
   "metadata": {},
   "source": [
    "# CHFJPY"
   ]
  },
  {
   "cell_type": "code",
   "execution_count": 403,
   "id": "54341819",
   "metadata": {},
   "outputs": [
    {
     "name": "stdout",
     "output_type": "stream",
     "text": [
      "1560 391\n",
      "Epoch 1/20\n",
      "1554/1554 - 9s - loss: 0.0051\n",
      "Epoch 2/20\n",
      "1554/1554 - 9s - loss: 8.8523e-04\n",
      "Epoch 3/20\n",
      "1554/1554 - 10s - loss: 7.8392e-04\n",
      "Epoch 4/20\n",
      "1554/1554 - 10s - loss: 6.5982e-04\n",
      "Epoch 5/20\n",
      "1554/1554 - 10s - loss: 6.0639e-04\n",
      "Epoch 6/20\n",
      "1554/1554 - 9s - loss: 5.7170e-04\n",
      "Epoch 7/20\n",
      "1554/1554 - 10s - loss: 5.2011e-04\n",
      "Epoch 8/20\n",
      "1554/1554 - 10s - loss: 5.2717e-04\n",
      "Epoch 9/20\n",
      "1554/1554 - 9s - loss: 5.0999e-04\n",
      "Epoch 10/20\n",
      "1554/1554 - 9s - loss: 4.8993e-04\n",
      "Epoch 11/20\n",
      "1554/1554 - 10s - loss: 4.8707e-04\n",
      "Epoch 12/20\n",
      "1554/1554 - 11s - loss: 5.0720e-04\n",
      "Epoch 13/20\n",
      "1554/1554 - 10s - loss: 4.7692e-04\n",
      "Epoch 14/20\n",
      "1554/1554 - 9s - loss: 4.9105e-04\n",
      "Epoch 15/20\n",
      "1554/1554 - 10s - loss: 4.7917e-04\n",
      "Epoch 16/20\n",
      "1554/1554 - 10s - loss: 4.8167e-04\n",
      "Epoch 17/20\n",
      "1554/1554 - 9s - loss: 4.7958e-04\n",
      "Epoch 18/20\n",
      "1554/1554 - 10s - loss: 4.4873e-04\n",
      "Epoch 19/20\n",
      "1554/1554 - 9s - loss: 4.7131e-04\n",
      "Epoch 20/20\n",
      "1554/1554 - 9s - loss: 4.7402e-04\n",
      "Train Score: 0.79 RMSE\n",
      "Test Score: 0.69 RMSE\n"
     ]
    },
    {
     "data": {
      "image/png": "[encoded data removed]",
      "text/plain": [
       "<Figure size 1080x648 with 1 Axes>"
      ]
     },
     "metadata": {
      "needs_background": "light"
     },
     "output_type": "display_data"
    }
   ],
   "source": [
    "min_max_scaler = preprocessing.MinMaxScaler(feature_range=(0, 1))\n",
    "dataset = min_max_scaler.fit_transform(curr1['Close'].values.reshape(-1, 1))\n",
    "\n",
    "# split into train and test sets\n",
    "train_size = int(len(dataset) * 0.8)\n",
    "test_size = len(dataset) - train_size\n",
    "train, test = dataset[0:train_size,:], dataset[train_size:len(dataset),:]\n",
    "print(len(train), len(test))\n",
    "\n",
    "# convert an array of values into a dataset matrix\n",
    "def create_dataset(dataset, look_back=5):\n",
    "    dataX, dataY = [], []\n",
    "    for i in range(len(dataset)-look_back-1):\n",
    "        a = dataset[i:(i+look_back), 0]\n",
    "        dataX.append(a)\n",
    "        dataY.append(dataset[i + look_back, 0])\n",
    "    return np.array(dataX), np.array(dataY)\n",
    "\n",
    "\n",
    "x_train, y_train = create_dataset(train, look_back=5)\n",
    "x_test, y_test = create_dataset(test, look_back=5) \n",
    "\n",
    "x_train = np.reshape(x_train, (x_train.shape[0], 1, x_train.shape[1]))\n",
    "x_test = np.reshape(x_test, (x_test.shape[0], 1, x_test.shape[1])) \n",
    "\n",
    "\n",
    "# create and fit the LSTM network\n",
    "look_back=5\n",
    "model = Sequential()\n",
    "model.add(LSTM(20, input_shape=(1, look_back)))\n",
    "model.add(Dense(1))\n",
    "model.add(Activation('linear'))\n",
    "\n",
    "model.compile(loss='mean_squared_error', optimizer='adam')\n",
    "model.fit(x_train, y_train, epochs=20, batch_size=1, verbose=2) \n",
    "\n",
    "trainPredict = model.predict(x_train)\n",
    "testPredict = model.predict(x_test)\n",
    "# invert predictions\n",
    "trainPredict = min_max_scaler.inverse_transform(trainPredict)\n",
    "trainY = min_max_scaler.inverse_transform([y_train])\n",
    "testPredict = min_max_scaler.inverse_transform(testPredict)\n",
    "testY = min_max_scaler.inverse_transform([y_test])\n",
    "# calculate root mean squared error\n",
    "trainScore = math.sqrt(mean_squared_error(trainY[0], trainPredict[:,0]))\n",
    "print('Train Score: %.2f RMSE' % (trainScore))\n",
    "testScore = math.sqrt(mean_squared_error(testY[0], testPredict[:,0]))\n",
    "print('Test Score: %.2f RMSE' % (testScore)) \n",
    "\n",
    "# shift train predictions for plotting\n",
    "trainPredictPlot = np.empty_like(dataset)\n",
    "trainPredictPlot[:, :] = np.nan\n",
    "trainPredictPlot[look_back:len(trainPredict)+look_back, :] = trainPredict\n",
    "# shift test predictions for plotting\n",
    "testPredictPlot = np.empty_like(dataset)\n",
    "testPredictPlot[:, :] = np.nan\n",
    "testPredictPlot[len(trainPredict)+(look_back*2)+1:len(dataset)-1, :] = testPredict\n",
    "# plot baseline and predictions\n",
    "plt.figure(figsize = (15 , 9))\n",
    "plt.plot(min_max_scaler.inverse_transform(dataset))\n",
    "plt.plot(trainPredictPlot)\n",
    "plt.plot(testPredictPlot)\n",
    "plt.show()"
   ]
  },
  {
   "cell_type": "code",
   "execution_count": 404,
   "id": "4966fb7c",
   "metadata": {},
   "outputs": [
    {
     "name": "stdout",
     "output_type": "stream",
     "text": [
      "2695   2022-06-09\n",
      "2696   2022-06-10\n",
      "2697   2022-06-11\n",
      "2698   2022-06-12\n",
      "2699   2022-06-13\n",
      "2700   2022-06-14\n",
      "2701   2022-06-15\n",
      "2702   2022-06-16\n",
      "2703   2022-06-17\n",
      "2704   2022-06-18\n",
      "2705   2022-06-19\n",
      "2706   2022-06-20\n",
      "2707   2022-06-21\n",
      "2708   2022-06-22\n",
      "2709   2022-06-23\n",
      "Name: Date, dtype: datetime64[ns]\n",
      "trainX shape == (1950, 1, 5).\n",
      "trainY shape == (1950, 1).\n",
      "Epoch 1/5\n",
      "117/117 [==============================] - 2s 9ms/step - loss: 0.0516 - val_loss: 0.0423\n",
      "Epoch 2/5\n",
      "117/117 [==============================] - 1s 8ms/step - loss: 0.0042 - val_loss: 0.0217\n",
      "Epoch 3/5\n",
      "117/117 [==============================] - 1s 7ms/step - loss: 0.0026 - val_loss: 0.0182\n",
      "Epoch 4/5\n",
      "117/117 [==============================] - 1s 7ms/step - loss: 0.0021 - val_loss: 0.0109\n",
      "Epoch 5/5\n",
      "117/117 [==============================] - 1s 7ms/step - loss: 0.0018 - val_loss: 0.0115\n",
      "[Timestamp('2022-06-23 00:00:00', freq='C'), Timestamp('2022-06-24 00:00:00', freq='C')]\n"
     ]
    },
    {
     "data": {
      "text/plain": [
       "<AxesSubplot:xlabel='Date', ylabel='Close'>"
      ]
     },
     "execution_count": 404,
     "metadata": {},
     "output_type": "execute_result"
    },
    {
     "data": {
      "image/png": "[encoded data removed]",
      "text/plain": [
       "<Figure size 1080x648 with 1 Axes>"
      ]
     },
     "metadata": {
      "needs_background": "light"
     },
     "output_type": "display_data"
    }
   ],
   "source": [
    "from sklearn.preprocessing import StandardScaler \n",
    "import seaborn as sns\n",
    "\n",
    "\n",
    "\n",
    "train_dates = pd.to_datetime(crypto1['Date'])\n",
    "print(train_dates.tail(15)) #Check last few dates. \n",
    "\n",
    "\n",
    "df = curr1\n",
    "\n",
    "df['Currency']=0\n",
    "cols = list(df)[1:6]\n",
    "\n",
    "df_for_training = df[cols].astype(float)\n",
    "\n",
    "scaler = StandardScaler()\n",
    "scaler = scaler.fit(df_for_training)\n",
    "df_for_training_scaled = scaler.transform(df_for_training)\n",
    "\n",
    "\n",
    "#As required for LSTM networks, we require to reshape an input data into n_samples x timesteps x n_features. \n",
    "#In this example, the n_features is 4. We will make timesteps = 14 (past days data used for training). \n",
    "\n",
    "#Empty lists to be populated using formatted training data\n",
    "trainX = []\n",
    "trainY = []\n",
    "\n",
    "n_future = 1   # Number of days we want to look into the future based on the past days.\n",
    "n_past = 1  # Number of past days we want to use to predict the future. \n",
    "\n",
    "for i in range(n_past, len(df_for_training_scaled) - n_future +1):\n",
    "    trainX.append(df_for_training_scaled[i - n_past:i, 0:df_for_training.shape[1]])\n",
    "    trainY.append(df_for_training_scaled[i + n_future - 1:i + n_future, 0])\n",
    "\n",
    "trainX, trainY = np.array(trainX), np.array(trainY)\n",
    "\n",
    "print('trainX shape == {}.'.format(trainX.shape))\n",
    "print('trainY shape == {}.'.format(trainY.shape))\n",
    "\n",
    "history = model.fit(trainX, trainY, epochs=5, batch_size=15, validation_split=0.1, verbose=1) \n",
    "\n",
    "\n",
    "#Libraries that will help us extract only business days in the US.\n",
    "#Otherwise our dates would be wrong when we look back (or forward).  \n",
    "from pandas.tseries.holiday import USFederalHolidayCalendar\n",
    "from pandas.tseries.offsets import CustomBusinessDay\n",
    "us_bd = CustomBusinessDay(calendar=USFederalHolidayCalendar())\n",
    "\n",
    "n_days_for_prediction=2\n",
    "\n",
    "predict_period_dates = pd.date_range(list(train_dates)[-n_past], periods=n_days_for_prediction, freq=us_bd).tolist()\n",
    "print(predict_period_dates)\n",
    "\n",
    "#Make prediction\n",
    "prediction = model.predict(trainX[-n_days_for_prediction:]) #shape = (n, 1) where n is the n_days_for_prediction\n",
    "\n",
    "#Perform inverse transformation to rescale back to original range\n",
    "prediction_copies = np.repeat(prediction, df_for_training.shape[1], axis=-1)\n",
    "y_pred_future = scaler.inverse_transform(prediction_copies)[:,0]\n",
    "\n",
    "\n",
    "# Convert timestamp to date\n",
    "forecast_dates = []\n",
    "for time_i in predict_period_dates:\n",
    "    forecast_dates.append(time_i.date())\n",
    "    \n",
    "df_forecast = pd.DataFrame({'Date':np.array(forecast_dates), 'Close':y_pred_future})\n",
    "df_forecast['Date']=pd.to_datetime(df_forecast['Date'])\n",
    "\n",
    "\n",
    "original = df[['Date', 'Close']]\n",
    "original['Date']=pd.to_datetime(original['Date'])\n",
    "original = original.loc[original['Date'] >= '2022-06-23']\n",
    "plt.figure(figsize=(15,9))\n",
    "sns.lineplot(original['Date'], original['Close'])\n",
    "sns.lineplot(df_forecast['Date'], df_forecast['Close'])\n"
   ]
  },
  {
   "cell_type": "code",
   "execution_count": 405,
   "id": "2d295453",
   "metadata": {},
   "outputs": [
    {
     "data": {
      "text/plain": [
       "136.70706"
      ]
     },
     "execution_count": 405,
     "metadata": {},
     "output_type": "execute_result"
    }
   ],
   "source": [
    "y_pred_future[-1]#la valeur prédite au date 24-06-2022"
   ]
  },
  {
   "cell_type": "markdown",
   "id": "0e1943ec",
   "metadata": {},
   "source": [
    "# USDCHF"
   ]
  },
  {
   "cell_type": "code",
   "execution_count": 406,
   "id": "fbc12186",
   "metadata": {},
   "outputs": [
    {
     "name": "stdout",
     "output_type": "stream",
     "text": [
      "1560 391\n",
      "Epoch 1/20\n",
      "1554/1554 - 10s - loss: 0.0116\n",
      "Epoch 2/20\n",
      "1554/1554 - 9s - loss: 0.0027\n",
      "Epoch 3/20\n",
      "1554/1554 - 9s - loss: 0.0022\n",
      "Epoch 4/20\n",
      "1554/1554 - 9s - loss: 0.0020\n",
      "Epoch 5/20\n",
      "1554/1554 - 10s - loss: 0.0018\n",
      "Epoch 6/20\n",
      "1554/1554 - 10s - loss: 0.0018\n",
      "Epoch 7/20\n",
      "1554/1554 - 9s - loss: 0.0017\n",
      "Epoch 8/20\n",
      "1554/1554 - 9s - loss: 0.0017\n",
      "Epoch 9/20\n",
      "1554/1554 - 9s - loss: 0.0016\n",
      "Epoch 10/20\n",
      "1554/1554 - 10s - loss: 0.0016\n",
      "Epoch 11/20\n",
      "1554/1554 - 10s - loss: 0.0016\n",
      "Epoch 12/20\n",
      "1554/1554 - 9s - loss: 0.0016\n",
      "Epoch 13/20\n",
      "1554/1554 - 9s - loss: 0.0016\n",
      "Epoch 14/20\n",
      "1554/1554 - 10s - loss: 0.0016\n",
      "Epoch 15/20\n",
      "1554/1554 - 9s - loss: 0.0016\n",
      "Epoch 16/20\n",
      "1554/1554 - 10s - loss: 0.0016\n",
      "Epoch 17/20\n",
      "1554/1554 - 8s - loss: 0.0015\n",
      "Epoch 18/20\n",
      "1554/1554 - 9s - loss: 0.0015\n",
      "Epoch 19/20\n",
      "1554/1554 - 9s - loss: 0.0015\n",
      "Epoch 20/20\n",
      "1554/1554 - 9s - loss: 0.0015\n",
      "Train Score: 0.01 RMSE\n",
      "Test Score: 0.00 RMSE\n"
     ]
    },
    {
     "data": {
      "image/png": "[encoded data removed]",
      "text/plain": [
       "<Figure size 1080x648 with 1 Axes>"
      ]
     },
     "metadata": {
      "needs_background": "light"
     },
     "output_type": "display_data"
    }
   ],
   "source": [
    "min_max_scaler = preprocessing.MinMaxScaler(feature_range=(0, 1))\n",
    "dataset = min_max_scaler.fit_transform(curr2['Close'].values.reshape(-1, 1))\n",
    "\n",
    "# split into train and test sets\n",
    "train_size = int(len(dataset) * 0.8)\n",
    "test_size = len(dataset) - train_size\n",
    "train, test = dataset[0:train_size,:], dataset[train_size:len(dataset),:]\n",
    "print(len(train), len(test))\n",
    "\n",
    "# convert an array of values into a dataset matrix\n",
    "def create_dataset(dataset, look_back=5):\n",
    "    dataX, dataY = [], []\n",
    "    for i in range(len(dataset)-look_back-1):\n",
    "        a = dataset[i:(i+look_back), 0]\n",
    "        dataX.append(a)\n",
    "        dataY.append(dataset[i + look_back, 0])\n",
    "    return np.array(dataX), np.array(dataY)\n",
    "\n",
    "\n",
    "x_train, y_train = create_dataset(train, look_back=5)\n",
    "x_test, y_test = create_dataset(test, look_back=5) \n",
    "\n",
    "x_train = np.reshape(x_train, (x_train.shape[0], 1, x_train.shape[1]))\n",
    "x_test = np.reshape(x_test, (x_test.shape[0], 1, x_test.shape[1])) \n",
    "\n",
    "\n",
    "# create and fit the LSTM network\n",
    "look_back=5\n",
    "model = Sequential()\n",
    "model.add(LSTM(20, input_shape=(1, look_back)))\n",
    "model.add(Dense(1))\n",
    "model.add(Activation('linear'))\n",
    "\n",
    "model.compile(loss='mean_squared_error', optimizer='adam')\n",
    "model.fit(x_train, y_train, epochs=20, batch_size=1, verbose=2) \n",
    "\n",
    "trainPredict = model.predict(x_train)\n",
    "testPredict = model.predict(x_test)\n",
    "# invert predictions\n",
    "trainPredict = min_max_scaler.inverse_transform(trainPredict)\n",
    "trainY = min_max_scaler.inverse_transform([y_train])\n",
    "testPredict = min_max_scaler.inverse_transform(testPredict)\n",
    "testY = min_max_scaler.inverse_transform([y_test])\n",
    "# calculate root mean squared error\n",
    "trainScore = math.sqrt(mean_squared_error(trainY[0], trainPredict[:,0]))\n",
    "print('Train Score: %.2f RMSE' % (trainScore))\n",
    "testScore = math.sqrt(mean_squared_error(testY[0], testPredict[:,0]))\n",
    "print('Test Score: %.2f RMSE' % (testScore)) \n",
    "\n",
    "# shift train predictions for plotting\n",
    "trainPredictPlot = np.empty_like(dataset)\n",
    "trainPredictPlot[:, :] = np.nan\n",
    "trainPredictPlot[look_back:len(trainPredict)+look_back, :] = trainPredict\n",
    "# shift test predictions for plotting\n",
    "testPredictPlot = np.empty_like(dataset)\n",
    "testPredictPlot[:, :] = np.nan\n",
    "testPredictPlot[len(trainPredict)+(look_back*2)+1:len(dataset)-1, :] = testPredict\n",
    "# plot baseline and predictions\n",
    "plt.figure(figsize = (15 , 9))\n",
    "plt.plot(min_max_scaler.inverse_transform(dataset))\n",
    "plt.plot(trainPredictPlot)\n",
    "plt.plot(testPredictPlot)\n",
    "plt.show()"
   ]
  },
  {
   "cell_type": "code",
   "execution_count": 407,
   "id": "51f88e2e",
   "metadata": {},
   "outputs": [
    {
     "name": "stdout",
     "output_type": "stream",
     "text": [
      "2695   2022-06-09\n",
      "2696   2022-06-10\n",
      "2697   2022-06-11\n",
      "2698   2022-06-12\n",
      "2699   2022-06-13\n",
      "2700   2022-06-14\n",
      "2701   2022-06-15\n",
      "2702   2022-06-16\n",
      "2703   2022-06-17\n",
      "2704   2022-06-18\n",
      "2705   2022-06-19\n",
      "2706   2022-06-20\n",
      "2707   2022-06-21\n",
      "2708   2022-06-22\n",
      "2709   2022-06-23\n",
      "Name: Date, dtype: datetime64[ns]\n",
      "trainX shape == (1950, 1, 5).\n",
      "trainY shape == (1950, 1).\n",
      "Epoch 1/5\n",
      "117/117 [==============================] - 2s 11ms/step - loss: 0.0842 - val_loss: 0.0126\n",
      "Epoch 2/5\n",
      "117/117 [==============================] - 1s 8ms/step - loss: 0.0107 - val_loss: 0.0047\n",
      "Epoch 3/5\n",
      "117/117 [==============================] - 1s 7ms/step - loss: 0.0059 - val_loss: 0.0043\n",
      "Epoch 4/5\n",
      "117/117 [==============================] - 1s 7ms/step - loss: 0.0039 - val_loss: 0.0023\n",
      "Epoch 5/5\n",
      "117/117 [==============================] - 1s 8ms/step - loss: 0.0030 - val_loss: 0.0020\n",
      "[Timestamp('2022-06-23 00:00:00', freq='C'), Timestamp('2022-06-24 00:00:00', freq='C')]\n"
     ]
    },
    {
     "data": {
      "text/plain": [
       "<AxesSubplot:xlabel='Date', ylabel='Open'>"
      ]
     },
     "execution_count": 407,
     "metadata": {},
     "output_type": "execute_result"
    },
    {
     "data": {
      "image/png": "[encoded data removed]",
      "text/plain": [
       "<Figure size 1080x648 with 1 Axes>"
      ]
     },
     "metadata": {
      "needs_background": "light"
     },
     "output_type": "display_data"
    }
   ],
   "source": [
    "from sklearn.preprocessing import StandardScaler \n",
    "import seaborn as sns\n",
    "\n",
    "\n",
    "\n",
    "train_dates = pd.to_datetime(crypto1['Date'])\n",
    "print(train_dates.tail(15)) #Check last few dates. \n",
    "\n",
    "\n",
    "df = curr2\n",
    "\n",
    "df['Currency']=0\n",
    "cols = list(df)[1:6]\n",
    "\n",
    "df_for_training = df[cols].astype(float)\n",
    "\n",
    "scaler = StandardScaler()\n",
    "scaler = scaler.fit(df_for_training)\n",
    "df_for_training_scaled = scaler.transform(df_for_training)\n",
    "\n",
    "\n",
    "#As required for LSTM networks, we require to reshape an input data into n_samples x timesteps x n_features. \n",
    "#In this example, the n_features is 4. We will make timesteps = 14 (past days data used for training). \n",
    "\n",
    "#Empty lists to be populated using formatted training data\n",
    "trainX = []\n",
    "trainY = []\n",
    "\n",
    "n_future = 1   # Number of days we want to look into the future based on the past days.\n",
    "n_past = 1  # Number of past days we want to use to predict the future. \n",
    "\n",
    "for i in range(n_past, len(df_for_training_scaled) - n_future +1):\n",
    "    trainX.append(df_for_training_scaled[i - n_past:i, 0:df_for_training.shape[1]])\n",
    "    trainY.append(df_for_training_scaled[i + n_future - 1:i + n_future, 0])\n",
    "\n",
    "trainX, trainY = np.array(trainX), np.array(trainY)\n",
    "\n",
    "print('trainX shape == {}.'.format(trainX.shape))\n",
    "print('trainY shape == {}.'.format(trainY.shape))\n",
    "\n",
    "history = model.fit(trainX, trainY, epochs=5, batch_size=15, validation_split=0.1, verbose=1) \n",
    "\n",
    "\n",
    "#Libraries that will help us extract only business days in the US.\n",
    "#Otherwise our dates would be wrong when we look back (or forward).  \n",
    "from pandas.tseries.holiday import USFederalHolidayCalendar\n",
    "from pandas.tseries.offsets import CustomBusinessDay\n",
    "us_bd = CustomBusinessDay(calendar=USFederalHolidayCalendar())\n",
    "\n",
    "n_days_for_prediction=2\n",
    "\n",
    "predict_period_dates = pd.date_range(list(train_dates)[-n_past], periods=n_days_for_prediction, freq=us_bd).tolist()\n",
    "print(predict_period_dates)\n",
    "\n",
    "#Make prediction\n",
    "prediction = model.predict(trainX[-n_days_for_prediction:]) #shape = (n, 1) where n is the n_days_for_prediction\n",
    "\n",
    "#Perform inverse transformation to rescale back to original range\n",
    "prediction_copies = np.repeat(prediction, df_for_training.shape[1], axis=-1)\n",
    "y_pred_future = scaler.inverse_transform(prediction_copies)[:,0]\n",
    "\n",
    "\n",
    "# Convert timestamp to date\n",
    "forecast_dates = []\n",
    "for time_i in predict_period_dates:\n",
    "    forecast_dates.append(time_i.date())\n",
    "    \n",
    "df_forecast = pd.DataFrame({'Date':np.array(forecast_dates), 'Open':y_pred_future})\n",
    "df_forecast['Date']=pd.to_datetime(df_forecast['Date'])\n",
    "\n",
    "\n",
    "original = df[['Date', 'Open']]\n",
    "original['Date']=pd.to_datetime(original['Date'])\n",
    "original = original.loc[original['Date'] >= '2022-06-23']\n",
    "plt.figure(figsize=(15,9))\n",
    "sns.lineplot(original['Date'], original['Open'])\n",
    "sns.lineplot(df_forecast['Date'], df_forecast['Open'])\n"
   ]
  },
  {
   "cell_type": "code",
   "execution_count": 408,
   "id": "3cdc3fa4",
   "metadata": {},
   "outputs": [
    {
     "data": {
      "text/plain": [
       "0.96244156"
      ]
     },
     "execution_count": 408,
     "metadata": {},
     "output_type": "execute_result"
    }
   ],
   "source": [
    "y_pred_future[-1]"
   ]
  },
  {
   "cell_type": "markdown",
   "id": "3bb59ff2",
   "metadata": {},
   "source": [
    "# GBPAUD"
   ]
  },
  {
   "cell_type": "code",
   "execution_count": 409,
   "id": "ebfe9158",
   "metadata": {},
   "outputs": [
    {
     "name": "stdout",
     "output_type": "stream",
     "text": [
      "1560 391\n",
      "Epoch 1/20\n",
      "1554/1554 - 9s - loss: 0.0055\n",
      "Epoch 2/20\n",
      "1554/1554 - 8s - loss: 8.8141e-04\n",
      "Epoch 3/20\n",
      "1554/1554 - 8s - loss: 8.1127e-04\n",
      "Epoch 4/20\n",
      "1554/1554 - 8s - loss: 7.2254e-04\n",
      "Epoch 5/20\n",
      "1554/1554 - 8s - loss: 6.2465e-04\n",
      "Epoch 6/20\n",
      "1554/1554 - 8s - loss: 5.7892e-04\n",
      "Epoch 7/20\n",
      "1554/1554 - 8s - loss: 5.6566e-04\n",
      "Epoch 8/20\n",
      "1554/1554 - 9s - loss: 5.6980e-04\n",
      "Epoch 9/20\n",
      "1554/1554 - 8s - loss: 5.1700e-04\n",
      "Epoch 10/20\n",
      "1554/1554 - 8s - loss: 5.0188e-04\n",
      "Epoch 11/20\n",
      "1554/1554 - 8s - loss: 5.1716e-04\n",
      "Epoch 12/20\n",
      "1554/1554 - 8s - loss: 5.1691e-04\n",
      "Epoch 13/20\n",
      "1554/1554 - 9s - loss: 4.8573e-04\n",
      "Epoch 14/20\n",
      "1554/1554 - 9s - loss: 4.8890e-04\n",
      "Epoch 15/20\n",
      "1554/1554 - 8s - loss: 4.9280e-04\n",
      "Epoch 16/20\n",
      "1554/1554 - 10s - loss: 4.8299e-04\n",
      "Epoch 17/20\n",
      "1554/1554 - 10s - loss: 4.8366e-04\n",
      "Epoch 18/20\n",
      "1554/1554 - 8s - loss: 4.9860e-04\n",
      "Epoch 19/20\n",
      "1554/1554 - 8s - loss: 4.6875e-04\n",
      "Epoch 20/20\n",
      "1554/1554 - 8s - loss: 4.7869e-04\n",
      "Train Score: 0.01 RMSE\n",
      "Test Score: 0.01 RMSE\n"
     ]
    },
    {
     "data": {
      "image/png": "[encoded data removed]",
      "text/plain": [
       "<Figure size 1080x648 with 1 Axes>"
      ]
     },
     "metadata": {
      "needs_background": "light"
     },
     "output_type": "display_data"
    }
   ],
   "source": [
    "min_max_scaler = preprocessing.MinMaxScaler(feature_range=(0, 1))\n",
    "dataset = min_max_scaler.fit_transform(curr3['Close'].values.reshape(-1, 1))\n",
    "\n",
    "# split into train and test sets\n",
    "train_size = int(len(dataset) * 0.8)\n",
    "test_size = len(dataset) - train_size\n",
    "train, test = dataset[0:train_size,:], dataset[train_size:len(dataset),:]\n",
    "print(len(train), len(test))\n",
    "\n",
    "# convert an array of values into a dataset matrix\n",
    "def create_dataset(dataset, look_back=5):\n",
    "    dataX, dataY = [], []\n",
    "    for i in range(len(dataset)-look_back-1):\n",
    "        a = dataset[i:(i+look_back), 0]\n",
    "        dataX.append(a)\n",
    "        dataY.append(dataset[i + look_back, 0])\n",
    "    return np.array(dataX), np.array(dataY)\n",
    "\n",
    "\n",
    "x_train, y_train = create_dataset(train, look_back=5)\n",
    "x_test, y_test = create_dataset(test, look_back=5) \n",
    "\n",
    "x_train = np.reshape(x_train, (x_train.shape[0], 1, x_train.shape[1]))\n",
    "x_test = np.reshape(x_test, (x_test.shape[0], 1, x_test.shape[1])) \n",
    "\n",
    "\n",
    "# create and fit the LSTM network\n",
    "look_back=5\n",
    "model = Sequential()\n",
    "model.add(LSTM(20, input_shape=(1, look_back)))\n",
    "model.add(Dense(1))\n",
    "model.add(Activation('linear'))\n",
    "\n",
    "model.compile(loss='mean_squared_error', optimizer='adam')\n",
    "model.fit(x_train, y_train, epochs=20, batch_size=1, verbose=2) \n",
    "\n",
    "trainPredict = model.predict(x_train)\n",
    "testPredict = model.predict(x_test)\n",
    "# invert predictions\n",
    "trainPredict = min_max_scaler.inverse_transform(trainPredict)\n",
    "trainY = min_max_scaler.inverse_transform([y_train])\n",
    "testPredict = min_max_scaler.inverse_transform(testPredict)\n",
    "testY = min_max_scaler.inverse_transform([y_test])\n",
    "# calculate root mean squared error\n",
    "trainScore = math.sqrt(mean_squared_error(trainY[0], trainPredict[:,0]))\n",
    "print('Train Score: %.2f RMSE' % (trainScore))\n",
    "testScore = math.sqrt(mean_squared_error(testY[0], testPredict[:,0]))\n",
    "print('Test Score: %.2f RMSE' % (testScore)) \n",
    "\n",
    "# shift train predictions for plotting\n",
    "trainPredictPlot = np.empty_like(dataset)\n",
    "trainPredictPlot[:, :] = np.nan\n",
    "trainPredictPlot[look_back:len(trainPredict)+look_back, :] = trainPredict\n",
    "# shift test predictions for plotting\n",
    "testPredictPlot = np.empty_like(dataset)\n",
    "testPredictPlot[:, :] = np.nan\n",
    "testPredictPlot[len(trainPredict)+(look_back*2)+1:len(dataset)-1, :] = testPredict\n",
    "# plot baseline and predictions \n",
    "plt.figure(figsize = (15 , 9))\n",
    "plt.plot(min_max_scaler.inverse_transform(dataset))\n",
    "plt.plot(trainPredictPlot)\n",
    "plt.plot(testPredictPlot)\n",
    "plt.show()"
   ]
  },
  {
   "cell_type": "code",
   "execution_count": 411,
   "id": "8cdd645d",
   "metadata": {},
   "outputs": [
    {
     "name": "stdout",
     "output_type": "stream",
     "text": [
      "2695   2022-06-09\n",
      "2696   2022-06-10\n",
      "2697   2022-06-11\n",
      "2698   2022-06-12\n",
      "2699   2022-06-13\n",
      "2700   2022-06-14\n",
      "2701   2022-06-15\n",
      "2702   2022-06-16\n",
      "2703   2022-06-17\n",
      "2704   2022-06-18\n",
      "2705   2022-06-19\n",
      "2706   2022-06-20\n",
      "2707   2022-06-21\n",
      "2708   2022-06-22\n",
      "2709   2022-06-23\n",
      "Name: Date, dtype: datetime64[ns]\n",
      "trainX shape == (1950, 1, 5).\n",
      "trainY shape == (1950, 1).\n",
      "Epoch 1/5\n",
      "117/117 [==============================] - 3s 18ms/step - loss: 0.0209 - val_loss: 0.0012\n",
      "Epoch 2/5\n",
      "117/117 [==============================] - 2s 17ms/step - loss: 0.0021 - val_loss: 7.1086e-04\n",
      "Epoch 3/5\n",
      "117/117 [==============================] - 2s 16ms/step - loss: 0.0014 - val_loss: 6.5792e-04\n",
      "Epoch 4/5\n",
      "117/117 [==============================] - 2s 16ms/step - loss: 0.0012 - val_loss: 6.1420e-04\n",
      "Epoch 5/5\n",
      "117/117 [==============================] - 2s 16ms/step - loss: 0.0011 - val_loss: 5.9320e-04\n",
      "[Timestamp('2022-06-23 00:00:00', freq='C'), Timestamp('2022-06-24 00:00:00', freq='C')]\n"
     ]
    },
    {
     "data": {
      "text/plain": [
       "<AxesSubplot:xlabel='Date', ylabel='Close'>"
      ]
     },
     "execution_count": 411,
     "metadata": {},
     "output_type": "execute_result"
    },
    {
     "data": {
      "image/png": "[encoded data removed]",
      "text/plain": [
       "<Figure size 1080x648 with 1 Axes>"
      ]
     },
     "metadata": {
      "needs_background": "light"
     },
     "output_type": "display_data"
    }
   ],
   "source": [
    "from sklearn.preprocessing import StandardScaler \n",
    "import seaborn as sns\n",
    "\n",
    "\n",
    "\n",
    "train_dates = pd.to_datetime(crypto1['Date'])\n",
    "print(train_dates.tail(15)) #Check last few dates. \n",
    "\n",
    "\n",
    "df = curr3\n",
    "\n",
    "df['Currency']=0\n",
    "cols = list(df)[1:6]\n",
    "\n",
    "df_for_training = df[cols].astype(float)\n",
    "\n",
    "scaler = StandardScaler()\n",
    "scaler = scaler.fit(df_for_training)\n",
    "df_for_training_scaled = scaler.transform(df_for_training)\n",
    "\n",
    "\n",
    "#As required for LSTM networks, we require to reshape an input data into n_samples x timesteps x n_features. \n",
    "#In this example, the n_features is 4. We will make timesteps = 14 (past days data used for training). \n",
    "\n",
    "#Empty lists to be populated using formatted training data\n",
    "trainX = []\n",
    "trainY = []\n",
    "\n",
    "n_future = 1   # Number of days we want to look into the future based on the past days.\n",
    "n_past = 1  # Number of past days we want to use to predict the future. \n",
    "\n",
    "for i in range(n_past, len(df_for_training_scaled) - n_future +1):\n",
    "    trainX.append(df_for_training_scaled[i - n_past:i, 0:df_for_training.shape[1]])\n",
    "    trainY.append(df_for_training_scaled[i + n_future - 1:i + n_future, 0])\n",
    "\n",
    "trainX, trainY = np.array(trainX), np.array(trainY)\n",
    "\n",
    "print('trainX shape == {}.'.format(trainX.shape))\n",
    "print('trainY shape == {}.'.format(trainY.shape))\n",
    "\n",
    "history = model.fit(trainX, trainY, epochs=5, batch_size=15, validation_split=0.1, verbose=1) \n",
    "\n",
    "\n",
    "#Libraries that will help us extract only business days in the US.\n",
    "#Otherwise our dates would be wrong when we look back (or forward).  \n",
    "from pandas.tseries.holiday import USFederalHolidayCalendar\n",
    "from pandas.tseries.offsets import CustomBusinessDay\n",
    "us_bd = CustomBusinessDay(calendar=USFederalHolidayCalendar())\n",
    "\n",
    "n_days_for_prediction=2\n",
    "\n",
    "predict_period_dates = pd.date_range(list(train_dates)[-n_past], periods=n_days_for_prediction, freq=us_bd).tolist()\n",
    "print(predict_period_dates)\n",
    "\n",
    "#Make prediction\n",
    "prediction = model.predict(trainX[-n_days_for_prediction:]) #shape = (n, 1) where n is the n_days_for_prediction\n",
    "\n",
    "#Perform inverse transformation to rescale back to original range\n",
    "prediction_copies = np.repeat(prediction, df_for_training.shape[1], axis=-1)\n",
    "y_pred_future = scaler.inverse_transform(prediction_copies)[:,0]\n",
    "\n",
    "\n",
    "# Convert timestamp to date\n",
    "forecast_dates = []\n",
    "for time_i in predict_period_dates:\n",
    "    forecast_dates.append(time_i.date())\n",
    "    \n",
    "df_forecast = pd.DataFrame({'Date':np.array(forecast_dates), 'Close':y_pred_future})\n",
    "df_forecast['Date']=pd.to_datetime(df_forecast['Date'])\n",
    "\n",
    "\n",
    "original = df[['Date', 'Close']]\n",
    "original['Date']=pd.to_datetime(original['Date'])\n",
    "original = original.loc[original['Date'] >= '2022-06-23']\n",
    "plt.figure(figsize=(15,9))\n",
    "sns.lineplot(original['Date'], original['Close'])\n",
    "sns.lineplot(df_forecast['Date'], df_forecast['Close'])\n"
   ]
  },
  {
   "cell_type": "code",
   "execution_count": 412,
   "id": "02d58879",
   "metadata": {},
   "outputs": [
    {
     "data": {
      "text/plain": [
       "1.7700555"
      ]
     },
     "execution_count": 412,
     "metadata": {},
     "output_type": "execute_result"
    }
   ],
   "source": [
    "y_pred_future[-1]#la valeur prédite au date 24-06-2022"
   ]
  },
  {
   "cell_type": "markdown",
   "id": "9fe1f64f",
   "metadata": {},
   "source": [
    "# USDJPY"
   ]
  },
  {
   "cell_type": "code",
   "execution_count": 413,
   "id": "f0c13faa",
   "metadata": {},
   "outputs": [
    {
     "name": "stdout",
     "output_type": "stream",
     "text": [
      "1560 391\n",
      "Epoch 1/20\n",
      "1554/1554 - 9s - loss: 0.0043\n",
      "Epoch 2/20\n",
      "1554/1554 - 8s - loss: 5.9771e-04\n",
      "Epoch 3/20\n",
      "1554/1554 - 8s - loss: 5.1898e-04\n",
      "Epoch 4/20\n",
      "1554/1554 - 8s - loss: 4.5399e-04\n",
      "Epoch 5/20\n",
      "1554/1554 - 9s - loss: 4.2599e-04\n",
      "Epoch 6/20\n",
      "1554/1554 - 9s - loss: 3.9756e-04\n",
      "Epoch 7/20\n",
      "1554/1554 - 8s - loss: 3.6423e-04\n",
      "Epoch 8/20\n",
      "1554/1554 - 9s - loss: 3.6704e-04\n",
      "Epoch 9/20\n",
      "1554/1554 - 9s - loss: 3.5040e-04\n",
      "Epoch 10/20\n",
      "1554/1554 - 9s - loss: 3.5018e-04\n",
      "Epoch 11/20\n",
      "1554/1554 - 9s - loss: 3.3958e-04\n",
      "Epoch 12/20\n",
      "1554/1554 - 9s - loss: 3.2989e-04\n",
      "Epoch 13/20\n",
      "1554/1554 - 9s - loss: 3.4551e-04\n",
      "Epoch 14/20\n",
      "1554/1554 - 10s - loss: 3.3799e-04\n",
      "Epoch 15/20\n",
      "1554/1554 - 9s - loss: 3.2725e-04\n",
      "Epoch 16/20\n",
      "1554/1554 - 10s - loss: 3.4085e-04\n",
      "Epoch 17/20\n",
      "1554/1554 - 10s - loss: 3.1906e-04\n",
      "Epoch 18/20\n",
      "1554/1554 - 10s - loss: 3.3013e-04\n",
      "Epoch 19/20\n",
      "1554/1554 - 9s - loss: 3.2893e-04\n",
      "Epoch 20/20\n",
      "1554/1554 - 9s - loss: 3.2201e-04\n",
      "Train Score: 0.65 RMSE\n",
      "Test Score: 0.76 RMSE\n"
     ]
    },
    {
     "data": {
      "image/png": "[encoded data removed]",
      "text/plain": [
       "<Figure size 1080x648 with 1 Axes>"
      ]
     },
     "metadata": {
      "needs_background": "light"
     },
     "output_type": "display_data"
    }
   ],
   "source": [
    "min_max_scaler = preprocessing.MinMaxScaler(feature_range=(0, 1))\n",
    "dataset = min_max_scaler.fit_transform(curr4['Close'].values.reshape(-1, 1))\n",
    "\n",
    "# split into train and test sets\n",
    "train_size = int(len(dataset) * 0.8)\n",
    "test_size = len(dataset) - train_size\n",
    "train, test = dataset[0:train_size,:], dataset[train_size:len(dataset),:]\n",
    "print(len(train), len(test))\n",
    "\n",
    "# convert an array of values into a dataset matrix\n",
    "def create_dataset(dataset, look_back=5):\n",
    "    dataX, dataY = [], []\n",
    "    for i in range(len(dataset)-look_back-1):\n",
    "        a = dataset[i:(i+look_back), 0]\n",
    "        dataX.append(a)\n",
    "        dataY.append(dataset[i + look_back, 0])\n",
    "    return np.array(dataX), np.array(dataY)\n",
    "\n",
    "\n",
    "x_train, y_train = create_dataset(train, look_back=5)\n",
    "x_test, y_test = create_dataset(test, look_back=5) \n",
    "\n",
    "x_train = np.reshape(x_train, (x_train.shape[0], 1, x_train.shape[1]))\n",
    "x_test = np.reshape(x_test, (x_test.shape[0], 1, x_test.shape[1])) \n",
    "\n",
    "\n",
    "# create and fit the LSTM network\n",
    "look_back=5\n",
    "model = Sequential()\n",
    "model.add(LSTM(20, input_shape=(1, look_back)))\n",
    "model.add(Dense(1))\n",
    "model.add(Activation('linear'))\n",
    "\n",
    "model.compile(loss='mean_squared_error', optimizer='adam')\n",
    "model.fit(x_train, y_train, epochs=20, batch_size=1, verbose=2) \n",
    "\n",
    "trainPredict = model.predict(x_train)\n",
    "testPredict = model.predict(x_test)\n",
    "# invert predictions\n",
    "trainPredict = min_max_scaler.inverse_transform(trainPredict)\n",
    "trainY = min_max_scaler.inverse_transform([y_train])\n",
    "testPredict = min_max_scaler.inverse_transform(testPredict)\n",
    "testY = min_max_scaler.inverse_transform([y_test])\n",
    "# calculate root mean squared error\n",
    "trainScore = math.sqrt(mean_squared_error(trainY[0], trainPredict[:,0]))\n",
    "print('Train Score: %.2f RMSE' % (trainScore))\n",
    "testScore = math.sqrt(mean_squared_error(testY[0], testPredict[:,0]))\n",
    "print('Test Score: %.2f RMSE' % (testScore)) \n",
    "\n",
    "# shift train predictions for plotting\n",
    "trainPredictPlot = np.empty_like(dataset)\n",
    "trainPredictPlot[:, :] = np.nan\n",
    "trainPredictPlot[look_back:len(trainPredict)+look_back, :] = trainPredict\n",
    "# shift test predictions for plotting\n",
    "testPredictPlot = np.empty_like(dataset)\n",
    "testPredictPlot[:, :] = np.nan\n",
    "testPredictPlot[len(trainPredict)+(look_back*2)+1:len(dataset)-1, :] = testPredict\n",
    "# plot baseline and predictions\n",
    "plt.figure(figsize = (15 , 9))\n",
    "plt.plot(min_max_scaler.inverse_transform(dataset))\n",
    "plt.plot(trainPredictPlot)\n",
    "plt.plot(testPredictPlot)\n",
    "plt.show()"
   ]
  },
  {
   "cell_type": "code",
   "execution_count": 414,
   "id": "40012e24",
   "metadata": {},
   "outputs": [
    {
     "name": "stdout",
     "output_type": "stream",
     "text": [
      "2695   2022-06-09\n",
      "2696   2022-06-10\n",
      "2697   2022-06-11\n",
      "2698   2022-06-12\n",
      "2699   2022-06-13\n",
      "2700   2022-06-14\n",
      "2701   2022-06-15\n",
      "2702   2022-06-16\n",
      "2703   2022-06-17\n",
      "2704   2022-06-18\n",
      "2705   2022-06-19\n",
      "2706   2022-06-20\n",
      "2707   2022-06-21\n",
      "2708   2022-06-22\n",
      "2709   2022-06-23\n",
      "Name: Date, dtype: datetime64[ns]\n",
      "trainX shape == (1950, 1, 5).\n",
      "trainY shape == (1950, 1).\n",
      "Epoch 1/5\n",
      "117/117 [==============================] - 2s 9ms/step - loss: 0.0592 - val_loss: 0.1702\n",
      "Epoch 2/5\n",
      "117/117 [==============================] - 1s 8ms/step - loss: 0.0043 - val_loss: 0.1426\n",
      "Epoch 3/5\n",
      "117/117 [==============================] - 1s 8ms/step - loss: 0.0023 - val_loss: 0.1124\n",
      "Epoch 4/5\n",
      "117/117 [==============================] - 1s 7ms/step - loss: 0.0016 - val_loss: 0.1017\n",
      "Epoch 5/5\n",
      "117/117 [==============================] - 1s 7ms/step - loss: 0.0013 - val_loss: 0.0991\n",
      "[Timestamp('2022-06-23 00:00:00', freq='C'), Timestamp('2022-06-24 00:00:00', freq='C')]\n"
     ]
    },
    {
     "data": {
      "text/plain": [
       "<AxesSubplot:xlabel='Date', ylabel='Close'>"
      ]
     },
     "execution_count": 414,
     "metadata": {},
     "output_type": "execute_result"
    },
    {
     "data": {
      "image/png": "[encoded data removed]",
      "text/plain": [
       "<Figure size 1080x648 with 1 Axes>"
      ]
     },
     "metadata": {
      "needs_background": "light"
     },
     "output_type": "display_data"
    }
   ],
   "source": [
    "from sklearn.preprocessing import StandardScaler \n",
    "import seaborn as sns\n",
    "\n",
    "\n",
    "\n",
    "train_dates = pd.to_datetime(crypto1['Date'])\n",
    "print(train_dates.tail(15)) #Check last few dates. \n",
    "\n",
    "\n",
    "df = curr4\n",
    "\n",
    "df['Currency']=0\n",
    "cols = list(df)[1:6]\n",
    "\n",
    "df_for_training = df[cols].astype(float)\n",
    "\n",
    "scaler = StandardScaler()\n",
    "scaler = scaler.fit(df_for_training)\n",
    "df_for_training_scaled = scaler.transform(df_for_training)\n",
    "\n",
    "\n",
    "#As required for LSTM networks, we require to reshape an input data into n_samples x timesteps x n_features. \n",
    "#In this example, the n_features is 4. We will make timesteps = 14 (past days data used for training). \n",
    "\n",
    "#Empty lists to be populated using formatted training data\n",
    "trainX = []\n",
    "trainY = []\n",
    "\n",
    "n_future = 1   # Number of days we want to look into the future based on the past days.\n",
    "n_past = 1  # Number of past days we want to use to predict the future. \n",
    "\n",
    "for i in range(n_past, len(df_for_training_scaled) - n_future +1):\n",
    "    trainX.append(df_for_training_scaled[i - n_past:i, 0:df_for_training.shape[1]])\n",
    "    trainY.append(df_for_training_scaled[i + n_future - 1:i + n_future, 0])\n",
    "\n",
    "trainX, trainY = np.array(trainX), np.array(trainY)\n",
    "\n",
    "print('trainX shape == {}.'.format(trainX.shape))\n",
    "print('trainY shape == {}.'.format(trainY.shape))\n",
    "\n",
    "history = model.fit(trainX, trainY, epochs=5, batch_size=15, validation_split=0.1, verbose=1) \n",
    "\n",
    "\n",
    "#Libraries that will help us extract only business days in the US.\n",
    "#Otherwise our dates would be wrong when we look back (or forward).  \n",
    "from pandas.tseries.holiday import USFederalHolidayCalendar\n",
    "from pandas.tseries.offsets import CustomBusinessDay\n",
    "us_bd = CustomBusinessDay(calendar=USFederalHolidayCalendar())\n",
    "\n",
    "n_days_for_prediction=2\n",
    "\n",
    "predict_period_dates = pd.date_range(list(train_dates)[-n_past], periods=n_days_for_prediction, freq=us_bd).tolist()\n",
    "print(predict_period_dates)\n",
    "\n",
    "#Make prediction\n",
    "prediction = model.predict(trainX[-n_days_for_prediction:]) #shape = (n, 1) where n is the n_days_for_prediction\n",
    "\n",
    "#Perform inverse transformation to rescale back to original range\n",
    "prediction_copies = np.repeat(prediction, df_for_training.shape[1], axis=-1)\n",
    "y_pred_future = scaler.inverse_transform(prediction_copies)[:,0]\n",
    "\n",
    "\n",
    "# Convert timestamp to date\n",
    "forecast_dates = []\n",
    "for time_i in predict_period_dates:\n",
    "    forecast_dates.append(time_i.date())\n",
    "    \n",
    "df_forecast = pd.DataFrame({'Date':np.array(forecast_dates), 'Close':y_pred_future})\n",
    "df_forecast['Date']=pd.to_datetime(df_forecast['Date'])\n",
    "\n",
    "\n",
    "original = df[['Date', 'Close']]\n",
    "original['Date']=pd.to_datetime(original['Date'])\n",
    "original = original.loc[original['Date'] >= '2022-06-23']\n",
    "plt.figure(figsize=(15,9))\n",
    "sns.lineplot(original['Date'], original['Close'])\n",
    "sns.lineplot(df_forecast['Date'], df_forecast['Close'])\n"
   ]
  },
  {
   "cell_type": "code",
   "execution_count": 415,
   "id": "36103949",
   "metadata": {},
   "outputs": [
    {
     "data": {
      "text/plain": [
       "128.58322"
      ]
     },
     "execution_count": 415,
     "metadata": {},
     "output_type": "execute_result"
    }
   ],
   "source": [
    "y_pred_future[-1]#la valeur prédite au date 24-06-2022"
   ]
  },
  {
   "cell_type": "code",
   "execution_count": null,
   "id": "b2f4e071",
   "metadata": {},
   "outputs": [],
   "source": []
  }
 ],
 "metadata": {
  "kernelspec": {
   "display_name": "Python 3",
   "language": "python",
   "name": "python3"
  },
  "language_info": {
   "codemirror_mode": {
    "name": "ipython",
    "version": 3
   },
   "file_extension": ".py",
   "mimetype": "text/x-python",
   "name": "python",
   "nbconvert_exporter": "python",
   "pygments_lexer": "ipython3",
   "version": "3.8.8"
  }
 },
 "nbformat": 4,
 "nbformat_minor": 5
}
